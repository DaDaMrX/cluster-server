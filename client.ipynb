{
 "cells": [
  {
   "cell_type": "markdown",
   "metadata": {},
   "source": [
    "# 客户端把所有对话存入数据库"
   ]
  },
  {
   "cell_type": "code",
   "execution_count": 92,
   "metadata": {
    "scrolled": false
   },
   "outputs": [
    {
     "name": "stdout",
     "output_type": "stream",
     "text": [
      "合并完成 (共10942段对话).\n"
     ]
    }
   ],
   "source": [
    "config = {\n",
    "    'host': '127.0.0.1',\n",
    "    'user': 'root',\n",
    "    'password': 'xuhengda',\n",
    "    'database': 'TEST',\n",
    "}\n",
    "\n",
    "db = Database(config)\n",
    "\n",
    "raw_file = 'chat-short-20w.txt'\n",
    "\n",
    "# 读取原始数据文件\n",
    "with open(raw_file, encoding='utf-8') as f:\n",
    "    data = f.read().strip().split('\\n\\n')  # '\\n\\n'分隔每段对话\n",
    "\n",
    "# 将每段对话合并为一行\n",
    "corpus = []\n",
    "for conv_raw in data:\n",
    "    conv = conv_raw.strip().split('\\n')  # '\\n'分隔每句话\n",
    "    conv = list(map(lambda x: x.strip()[2:], conv))  # 去除开头的0/1标记\n",
    "    corpus.append(' '.join(conv))  \n",
    "    \n",
    "print('合并完成 (共%d段对话).' % len(corpus))\n",
    "\n",
    "for i, conv in enumerate(corpus):\n",
    "    corpus[i] = [i, conv]\n",
    "    \n",
    "db.insert_convs('0', corpus)\n",
    "    \n",
    "db.__del__()"
   ]
  },
  {
   "cell_type": "markdown",
   "metadata": {},
   "source": [
    "# 客户端发送请求"
   ]
  },
  {
   "cell_type": "code",
   "execution_count": 168,
   "metadata": {},
   "outputs": [
    {
     "name": "stdout",
     "output_type": "stream",
     "text": [
      "successfull\n",
      "False 0.02s\n",
      "False 5.04s\n",
      "False 10.06s\n",
      "False 15.08s\n",
      "False 20.10s\n",
      "False 25.13s\n",
      "False 30.15s\n",
      "False 35.17s\n",
      "False 40.19s\n",
      "False 45.22s\n",
      "False 50.24s\n",
      "False 55.26s\n",
      "False 60.28s\n",
      "False 65.30s\n",
      "False 70.32s\n"
     ]
    },
    {
     "ename": "KeyboardInterrupt",
     "evalue": "",
     "output_type": "error",
     "traceback": [
      "\u001b[0;31m---------------------------------------------------------------------------\u001b[0m",
      "\u001b[0;31mKeyboardInterrupt\u001b[0m                         Traceback (most recent call last)",
      "\u001b[0;32m<ipython-input-168-32900905e165>\u001b[0m in \u001b[0;36m<module>\u001b[0;34m()\u001b[0m\n\u001b[1;32m     40\u001b[0m     \u001b[0;32mif\u001b[0m \u001b[0;32mnot\u001b[0m \u001b[0mis_completed\u001b[0m\u001b[0;34m:\u001b[0m\u001b[0;34m\u001b[0m\u001b[0m\n\u001b[1;32m     41\u001b[0m         \u001b[0mprint\u001b[0m\u001b[0;34m(\u001b[0m\u001b[0mis_completed\u001b[0m\u001b[0;34m,\u001b[0m \u001b[0;34m'%.2fs'\u001b[0m \u001b[0;34m%\u001b[0m \u001b[0;34m(\u001b[0m\u001b[0mtime\u001b[0m\u001b[0;34m.\u001b[0m\u001b[0mtime\u001b[0m\u001b[0;34m(\u001b[0m\u001b[0;34m)\u001b[0m \u001b[0;34m-\u001b[0m \u001b[0mstart\u001b[0m\u001b[0;34m)\u001b[0m\u001b[0;34m)\u001b[0m\u001b[0;34m\u001b[0m\u001b[0m\n\u001b[0;32m---> 42\u001b[0;31m         \u001b[0mtime\u001b[0m\u001b[0;34m.\u001b[0m\u001b[0msleep\u001b[0m\u001b[0;34m(\u001b[0m\u001b[0;36m5\u001b[0m\u001b[0;34m)\u001b[0m\u001b[0;34m\u001b[0m\u001b[0m\n\u001b[0m\u001b[1;32m     43\u001b[0m     \u001b[0;32melse\u001b[0m\u001b[0;34m:\u001b[0m\u001b[0;34m\u001b[0m\u001b[0m\n\u001b[1;32m     44\u001b[0m         \u001b[0mprint\u001b[0m\u001b[0;34m(\u001b[0m\u001b[0mis_completed\u001b[0m\u001b[0;34m,\u001b[0m \u001b[0;34m'%.2fs'\u001b[0m \u001b[0;34m%\u001b[0m \u001b[0;34m(\u001b[0m\u001b[0mtime\u001b[0m\u001b[0;34m.\u001b[0m\u001b[0mtime\u001b[0m\u001b[0;34m(\u001b[0m\u001b[0;34m)\u001b[0m \u001b[0;34m-\u001b[0m \u001b[0mstart\u001b[0m\u001b[0;34m)\u001b[0m\u001b[0;34m)\u001b[0m\u001b[0;34m\u001b[0m\u001b[0m\n",
      "\u001b[0;31mKeyboardInterrupt\u001b[0m: "
     ]
    }
   ],
   "source": [
    "import urllib.parse, urllib.request\n",
    "import json\n",
    "import time\n",
    "\n",
    "import matplotlib.pyplot as plt\n",
    "import numpy as np\n",
    "%matplotlib inline\n",
    "\n",
    "from database import Database\n",
    "\n",
    "url = 'http://localhost:8080'\n",
    "\n",
    "data = {\n",
    "    'bot_id': '0',\n",
    "    'convs': [],\n",
    "    'stop_words': [],\n",
    "    'max_df': 0.1,\n",
    "    'min_df': 20,\n",
    "    'n_clusters': 50,\n",
    "    'method': 'kmeans'\n",
    "}\n",
    "\n",
    "data = json.dumps(data).encode('utf8')\n",
    "headers = {'content-type': 'application/json'}\n",
    "req = urllib.request.Request(url, data=data, headers=headers)\n",
    "\n",
    "result = urllib.request.urlopen(req).read().decode()\n",
    "print(result)\n",
    "\n",
    "\n",
    "config = {\n",
    "    'host': '127.0.0.1',\n",
    "    'user': 'root',\n",
    "    'password': 'xuhengda',\n",
    "    'database': 'TEST',\n",
    "}\n",
    "\n",
    "start = time.time()\n",
    "while True:\n",
    "    db = Database(config)\n",
    "    is_completed, progress = db.query_progress('0')\n",
    "    if not is_completed:\n",
    "        print(is_completed, '%.2fs' % (time.time() - start))\n",
    "        time.sleep(5)\n",
    "    else:\n",
    "        print(is_completed, '%.2fs' % (time.time() - start))\n",
    "        break\n",
    "    db.__del__()"
   ]
  },
  {
   "cell_type": "markdown",
   "metadata": {},
   "source": [
    "# 分析文件频率TF"
   ]
  },
  {
   "cell_type": "code",
   "execution_count": 176,
   "metadata": {},
   "outputs": [],
   "source": [
    "db.__del__()"
   ]
  },
  {
   "cell_type": "code",
   "execution_count": 164,
   "metadata": {},
   "outputs": [
    {
     "name": "stdout",
     "output_type": "stream",
     "text": [
      "total words: 1000\n",
      "文件频率df-词数\n"
     ]
    },
    {
     "data": {
      "image/png": "[encoded data removed]",
      "text/plain": [
       "<Figure size 432x288 with 1 Axes>"
      ]
     },
     "metadata": {},
     "output_type": "display_data"
    },
    {
     "name": "stdout",
     "output_type": "stream",
     "text": [
      "每个词的文件频率df\n"
     ]
    },
    {
     "data": {
      "image/png": "[encoded data removed]",
      "text/plain": [
       "<Figure size 432x288 with 1 Axes>"
      ]
     },
     "metadata": {},
     "output_type": "display_data"
    }
   ],
   "source": [
    "import matplotlib.pyplot as plt\n",
    "import numpy as np\n",
    "%matplotlib inline\n",
    "\n",
    "# 前端读数据库\n",
    "db = Database(config)\n",
    "df = db.select_all_dfs('0')\n",
    "db.__del__()\n",
    "\n",
    "print('total words:', len(df))\n",
    "# print(df)\n",
    "\n",
    "print('文件频率df-词数')\n",
    "plt.hist(df, 200)\n",
    "plt.show()\n",
    "\n",
    "print('每个词的文件频率df')\n",
    "df.sort()\n",
    "plt.bar(np.arange(len(df)), df)\n",
    "plt.show()"
   ]
  },
  {
   "cell_type": "markdown",
   "metadata": {},
   "source": [
    "# 分析TFIDF值"
   ]
  },
  {
   "cell_type": "code",
   "execution_count": null,
   "metadata": {},
   "outputs": [],
   "source": []
  }
 ],
 "metadata": {
  "kernelspec": {
   "display_name": "Python 3",
   "language": "python",
   "name": "python3"
  },
  "language_info": {
   "codemirror_mode": {
    "name": "ipython",
    "version": 3
   },
   "file_extension": ".py",
   "mimetype": "text/x-python",
   "name": "python",
   "nbconvert_exporter": "python",
   "pygments_lexer": "ipython3",
   "version": "3.6.5"
  }
 },
 "nbformat": 4,
 "nbformat_minor": 2
}
