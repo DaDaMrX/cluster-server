{
 "cells": [
  {
   "cell_type": "code",
   "execution_count": 2,
   "metadata": {},
   "outputs": [],
   "source": [
    "import sklearn\n",
    "import matplotlib.pyplot as plt\n",
    "import numpy as np"
   ]
  },
  {
   "cell_type": "markdown",
   "metadata": {},
   "source": [
    "# 对话聚类"
   ]
  },
  {
   "cell_type": "markdown",
   "metadata": {},
   "source": [
    "## 1. 数据清洗\n",
    "- 将每段对话合并为一行\n",
    "- 正则表达式替换特定字符串\n",
    "- 分词\n",
    "- 删除停用词（包括长度为1的词）"
   ]
  },
  {
   "cell_type": "code",
   "execution_count": 56,
   "metadata": {},
   "outputs": [
    {
     "name": "stderr",
     "output_type": "stream",
     "text": [
      "数据清洗开始...\n",
      "Step1: 合并完成 (共10942段对话)\n",
      "Setp2: 正则表达式替换完成\n",
      "Step3: 分词完成\n",
      "Step4: 删除停用词开始...\n",
      "Step4: 删除停用词完成 (用时: 22.16s)\n",
      "数据清洗完成.\n"
     ]
    }
   ],
   "source": [
    "import re\n",
    "import jieba\n",
    "import logging\n",
    "import time\n",
    "\n",
    "raw_file = 'chat-short-20w.txt'\n",
    "stop_wrods_file = 'stop_words.txt'\n",
    "\n",
    "jieba.setLogLevel(logging.INFO)\n",
    "logging.basicConfig(format='%(message)s', level=logging.DEBUG)\n",
    "\n",
    "def substitute(sent):\n",
    "    exps = [\n",
    "        r'#E-\\w\\[数字x\\]|~O\\(∩_∩\\)O/~',\n",
    "        r'http[s]?://[a-zA-Z0-9|\\.|/]+',\n",
    "        r'http[s]?://[a-zA-Z0-9\\./-]*\\[链接x\\]',\n",
    "        r'\\[ORDERID_[0-9]+\\]',\n",
    "        r'\\[日期x\\]',\n",
    "        r'\\[时间x\\]',\n",
    "        r'\\[金额x\\]',\n",
    "        r'\\[站点x\\]',\n",
    "        r'\\[数字x\\]',\n",
    "        r'\\[地址x\\]',\n",
    "        r'\\[姓名x\\]',\n",
    "        r'\\[邮箱x\\]',\n",
    "        r'\\[电话x\\]',\n",
    "        r'\\[商品快照\\]',\n",
    "        r'<s>',\n",
    "        r'\\s+',\n",
    "        r'[a-z|0-9]+'\n",
    "        \"[\\s+\\.\\!\\/_,$%^:*(+\\\"\\')]+\",\n",
    "        \"[+——()?:【】‘’“”`！，。？、~@#￥%……&*（）]+\"\n",
    "    ]\n",
    "    for exp in exps:\n",
    "        sent = re.sub(exp, ' ', sent)\n",
    "    return sent\n",
    "\n",
    "logging.info('数据清洗开始...')\n",
    "\n",
    "# 读取原始数据文件\n",
    "with open(raw_file, encoding='utf-8') as f:\n",
    "    data = f.read().strip().split('\\n\\n')  # '\\n\\n'分隔每段对话\n",
    "    \n",
    "# 将每段对话合并为一行\n",
    "corpus = []\n",
    "for conv_raw in data:\n",
    "    conv = conv_raw.strip().split('\\n')  # '\\n'分隔每句话\n",
    "    conv = list(map(lambda x: x.strip()[2:], conv))  # 去除开头的0/1标记\n",
    "    corpus.append(' '.join(conv))    \n",
    "logging.info('Step1: 合并完成 (共%d段对话)' % len(corpus))\n",
    "\n",
    "\n",
    "# 正则表达式替换特定字符串\n",
    "corpus = list(map(substitute, corpus))\n",
    "logging.info('Setp2: 正则表达式替换完成')\n",
    "\n",
    "# 分词\n",
    "t = time.time()\n",
    "corpus = list(map(jieba.cut, corpus))\n",
    "logging.info('Step3: 分词完成')\n",
    "\n",
    "# 删除停用词\n",
    "logging.info('Step4: 删除停用词开始...')\n",
    "with open(stop_wrods_file, encoding='utf-8') as f:\n",
    "    stop_words = f.read().strip().split('\\n')\n",
    "    \n",
    "# stop_words.extend(['看看', '东西', '知道', '查看', '亲亲', '善解人意')\n",
    "    \n",
    "t = time.time()\n",
    "for i in range(len(corpus)):\n",
    "    tokens = []\n",
    "    for token in corpus[i]:\n",
    "        token = token.strip()\n",
    "        if len(token) > 1 and token not in stop_words:\n",
    "            tokens.append(token)\n",
    "    corpus[i] = tokens\n",
    "logging.info('Step4: 删除停用词完成 (用时: %.2fs)' % (time.time() - t))\n",
    "\n",
    "# 组合\n",
    "corpus = list(map(lambda x: ' '.join(x), corpus))\n",
    "\n",
    "logging.info('数据清洗完成.')"
   ]
  },
  {
   "cell_type": "markdown",
   "metadata": {},
   "source": [
    "## 2. 转化为TFIDF标签"
   ]
  },
  {
   "cell_type": "code",
   "execution_count": 76,
   "metadata": {
    "scrolled": false
   },
   "outputs": [
    {
     "name": "stdout",
     "output_type": "stream",
     "text": [
      "全部词的[文件频率df-数量]统计\n",
      "文件频率df [0.0, 1.0]\n"
     ]
    },
    {
     "data": {
      "image/png": "[encoded data removed]",
      "text/plain": [
       "<Figure size 576x432 with 1 Axes>"
      ]
     },
     "metadata": {},
     "output_type": "display_data"
    },
    {
     "name": "stderr",
     "output_type": "stream",
     "text": [
      "tfifd标签转化完成\n"
     ]
    },
    {
     "name": "stdout",
     "output_type": "stream",
     "text": [
      "全部词数: 13100\n",
      "高df词数: 11808, 比例: 90.14%\n",
      "低df词数: 63, 比例: 0.48%\n",
      "使用词数: 1000, 比例: 7.63%\n",
      "(删词后) 文件频率df-词数\n"
     ]
    },
    {
     "data": {
      "image/png": "[encoded data removed]",
      "text/plain": [
       "<Figure size 432x288 with 1 Axes>"
      ]
     },
     "metadata": {},
     "output_type": "display_data"
    },
    {
     "name": "stdout",
     "output_type": "stream",
     "text": [
      "(删词后) 每个词的文件频率df\n"
     ]
    },
    {
     "data": {
      "image/png": "[encoded data removed]",
      "text/plain": [
       "<Figure size 432x288 with 1 Axes>"
      ]
     },
     "metadata": {},
     "output_type": "display_data"
    }
   ],
   "source": [
    "from sklearn.feature_extraction.text import TfidfVectorizer\n",
    "\n",
    "# 超参数\n",
    "max_df=0.1\n",
    "min_df = 20\n",
    "max_features=1000\n",
    "\n",
    "# 全部词\n",
    "tfidf_vectorizer = TfidfVectorizer()\n",
    "tfidf_vectorizer.fit(corpus)\n",
    "total_tokens = len(tfidf_vectorizer.vocabulary_)\n",
    "\n",
    "# 全部词的[频率-数量]统计\n",
    "print('全部词的[文件频率df-数量]统计')\n",
    "print('文件频率df [0.0, 1.0]')\n",
    "plt.figure(figsize=(8, 6))\n",
    "idf = tfidf_vectorizer.idf_\n",
    "df = list(map(lambda x: (len(corpus) + 1) / np.exp(x - 1) - 1, idf))\n",
    "df = list(map(lambda x: x / len(corpus), df))\n",
    "df.sort()\n",
    "plt.hist(df, 300)\n",
    "plt.ylim((None, 300))\n",
    "plt.show()\n",
    "\n",
    "# 只砍低频词\n",
    "tfidf_vectorizer = TfidfVectorizer(min_df=min_df)\n",
    "tfidf_vectorizer.fit(corpus)\n",
    "low_df_tokens = total_tokens - len(tfidf_vectorizer.vocabulary_)\n",
    "\n",
    "# 只砍高频词\n",
    "tfidf_vectorizer = TfidfVectorizer(max_df=max_df)\n",
    "tfidf_vectorizer.fit(corpus)\n",
    "high_df_tokens = total_tokens - len(tfidf_vectorizer.vocabulary_)\n",
    "\n",
    "# 正式转化\n",
    "tfidf_vectorizer = TfidfVectorizer(max_df=max_df, min_df=min_df, max_features=max_features)\n",
    "tfidf = tfidf_vectorizer.fit_transform(corpus)\n",
    "logging.info('tfifd标签转化完成')\n",
    "\n",
    "use_tokens = len(tfidf_vectorizer.vocabulary_)\n",
    "\n",
    "print('全部词数:', total_tokens)\n",
    "print('高df词数: %d, 比例: %.2f%%' % (low_df_tokens, low_df_tokens / total_tokens * 100))\n",
    "print('低df词数: %d, 比例: %.2f%%' % (high_df_tokens, high_df_tokens / total_tokens * 100))\n",
    "print('使用词数: %d, 比例: %.2f%%' % (use_tokens, use_tokens / total_tokens * 100))\n",
    "\n",
    "\n",
    "idf = tfidf_vectorizer.idf_\n",
    "df = list(map(lambda x: (len(corpus) + 1) / np.exp(x - 1) - 1, idf))\n",
    "df = list(map(lambda x: x / len(corpus), df))\n",
    "df.sort()\n",
    "\n",
    "print('(删词后) 文件频率df-词数')\n",
    "plt.hist(df, 200)\n",
    "# plt.ylim((None, 300))\n",
    "plt.show()\n",
    "\n",
    "print('(删词后) 每个词的文件频率df')\n",
    "plt.bar(np.arange(len(df)), df)\n",
    "plt.show()\n"
   ]
  },
  {
   "cell_type": "markdown",
   "metadata": {},
   "source": [
    "## 将每段对话中的词按tfidf值从高到低排序"
   ]
  },
  {
   "cell_type": "code",
   "execution_count": 77,
   "metadata": {
    "scrolled": false
   },
   "outputs": [
    {
     "name": "stdout",
     "output_type": "stream",
     "text": [
      "words: 1000\n",
      "\n",
      "Conv 1: 先发 有货 到货 操作 我家 啥时候 一周 快点 希望 关注 库房 多久 左右 两个 物流 稍等一下 建议您\n",
      "\n"
     ]
    },
    {
     "data": {
      "image/png": "[encoded data removed]",
      "text/plain": [
       "<Figure size 432x288 with 1 Axes>"
      ]
     },
     "metadata": {},
     "output_type": "display_data"
    },
    {
     "name": "stdout",
     "output_type": "stream",
     "text": [
      "Conv 2: 耽误 及时 着急 拦截 签收 下发 我点 过程 能查 第一次 灰常 这次 这种 估计 算了 积极 这么久 为止 直到 包裹 两天 就行 恢复 添麻烦 真的 谅解 明白 荣幸 关注 帮忙\n",
      "\n"
     ]
    },
    {
     "data": {
      "image/png": "[encoded data removed]",
      "text/plain": [
       "<Figure size 432x288 with 1 Axes>"
      ]
     },
     "metadata": {},
     "output_type": "display_data"
    },
    {
     "name": "stdout",
     "output_type": "stream",
     "text": [
      "Conv 3: 信用卡 银行 银行卡 周期 工作日 剩余 普通 实际 原路 为准 储蓄卡 退回 支付 返回 看看\n",
      "\n"
     ]
    },
    {
     "data": {
      "image/png": "[encoded data removed]",
      "text/plain": [
       "<Figure size 432x288 with 1 Axes>"
      ]
     },
     "metadata": {},
     "output_type": "display_data"
    },
    {
     "name": "stdout",
     "output_type": "stream",
     "text": [
      "Conv 4: 价保 啥时候 进度 方式 id 请稍等 差价 付款 返回 工作日 稍等一下\n",
      "\n"
     ]
    },
    {
     "data": {
      "image/png": "[encoded data removed]",
      "text/plain": [
       "<Figure size 432x288 with 1 Axes>"
      ]
     },
     "metadata": {},
     "output_type": "display_data"
    }
   ],
   "source": [
    "print('words:', len(tfidf_vectorizer.vocabulary_), end='\\n\\n')\n",
    "\n",
    "terms = tfidf_vectorizer.get_feature_names()\n",
    "conv_idx = 0\n",
    "for row in tfidf[:4]:\n",
    "    conv_idx += 1\n",
    "    print('Conv %d: ' % conv_idx, end='')\n",
    "    row = row.toarray().squeeze()\n",
    "    num = min(30, (row != 0).sum())\n",
    "    indexes = row.argsort()[:-1-num:-1]\n",
    "    words = [terms[idx] for idx in indexes]\n",
    "    print(' '.join(words), end='\\n\\n')\n",
    "    \n",
    "    values = [row[idx] for idx in indexes]\n",
    "    plt.bar(range(len(values)), values)\n",
    "    plt.show()"
   ]
  },
  {
   "cell_type": "markdown",
   "metadata": {},
   "source": [
    "## KMeans聚类"
   ]
  },
  {
   "cell_type": "code",
   "execution_count": 78,
   "metadata": {
    "scrolled": true
   },
   "outputs": [
    {
     "name": "stdout",
     "output_type": "stream",
     "text": [
      "Initialization complete\n",
      "Iteration  0, inertia 15495.546\n",
      "Iteration  1, inertia 9173.567\n",
      "Iteration  2, inertia 8969.700\n",
      "Iteration  3, inertia 8905.926\n",
      "Iteration  4, inertia 8874.262\n",
      "Iteration  5, inertia 8855.121\n",
      "Iteration  6, inertia 8843.443\n",
      "Iteration  7, inertia 8834.225\n",
      "Iteration  8, inertia 8826.765\n",
      "Iteration  9, inertia 8821.239\n",
      "Iteration 10, inertia 8817.878\n",
      "Iteration 11, inertia 8815.925\n",
      "Iteration 12, inertia 8814.161\n",
      "Iteration 13, inertia 8812.050\n",
      "Iteration 14, inertia 8810.230\n",
      "Iteration 15, inertia 8807.599\n",
      "Iteration 16, inertia 8804.470\n",
      "Iteration 17, inertia 8803.678\n",
      "Iteration 18, inertia 8803.328\n",
      "Iteration 19, inertia 8803.130\n",
      "Iteration 20, inertia 8803.047\n",
      "Iteration 21, inertia 8803.014\n",
      "Iteration 22, inertia 8803.006\n",
      "Converged at iteration 22: center shift 0.000000e+00 within tolerance 9.743080e-08\n",
      "Initialization complete\n",
      "Iteration  0, inertia 15503.948\n",
      "Iteration  1, inertia 9161.957\n",
      "Iteration  2, inertia 8988.131\n",
      "Iteration  3, inertia 8931.075\n",
      "Iteration  4, inertia 8893.619\n",
      "Iteration  5, inertia 8874.018\n",
      "Iteration  6, inertia 8855.876\n",
      "Iteration  7, inertia 8835.013\n",
      "Iteration  8, inertia 8825.639\n",
      "Iteration  9, inertia 8818.163\n",
      "Iteration 10, inertia 8813.859\n",
      "Iteration 11, inertia 8812.145\n",
      "Iteration 12, inertia 8810.782\n",
      "Iteration 13, inertia 8809.377\n",
      "Iteration 14, inertia 8808.641\n",
      "Iteration 15, inertia 8808.236\n",
      "Iteration 16, inertia 8807.703\n",
      "Iteration 17, inertia 8806.606\n",
      "Iteration 18, inertia 8805.375\n",
      "Iteration 19, inertia 8805.035\n",
      "Iteration 20, inertia 8804.837\n",
      "Iteration 21, inertia 8804.638\n",
      "Iteration 22, inertia 8804.513\n",
      "Iteration 23, inertia 8804.376\n",
      "Iteration 24, inertia 8804.253\n",
      "Iteration 25, inertia 8803.935\n",
      "Iteration 26, inertia 8803.355\n",
      "Iteration 27, inertia 8803.146\n",
      "Iteration 28, inertia 8803.132\n",
      "Converged at iteration 28: center shift 0.000000e+00 within tolerance 9.743080e-08\n",
      "Initialization complete\n",
      "Iteration  0, inertia 15412.963\n",
      "Iteration  1, inertia 9142.814\n",
      "Iteration  2, inertia 8978.937\n",
      "Iteration  3, inertia 8920.601\n",
      "Iteration  4, inertia 8895.608\n",
      "Iteration  5, inertia 8885.173\n",
      "Iteration  6, inertia 8874.790\n",
      "Iteration  7, inertia 8862.698\n",
      "Iteration  8, inertia 8854.324\n",
      "Iteration  9, inertia 8848.151\n",
      "Iteration 10, inertia 8843.509\n",
      "Iteration 11, inertia 8841.239\n",
      "Iteration 12, inertia 8840.174\n",
      "Iteration 13, inertia 8839.462\n",
      "Iteration 14, inertia 8838.996\n",
      "Iteration 15, inertia 8838.678\n",
      "Iteration 16, inertia 8838.519\n",
      "Iteration 17, inertia 8838.384\n",
      "Iteration 18, inertia 8838.266\n",
      "Iteration 19, inertia 8838.111\n",
      "Iteration 20, inertia 8837.973\n",
      "Iteration 21, inertia 8837.779\n",
      "Iteration 22, inertia 8837.652\n",
      "Iteration 23, inertia 8837.599\n",
      "Iteration 24, inertia 8837.553\n",
      "Iteration 25, inertia 8837.533\n",
      "Iteration 26, inertia 8837.528\n",
      "Iteration 27, inertia 8837.517\n",
      "Iteration 28, inertia 8837.508\n",
      "Iteration 29, inertia 8837.496\n",
      "Iteration 30, inertia 8837.491\n",
      "Iteration 31, inertia 8837.482\n",
      "Iteration 32, inertia 8837.472\n",
      "Iteration 33, inertia 8837.463\n",
      "Iteration 34, inertia 8837.451\n",
      "Iteration 35, inertia 8837.422\n",
      "Iteration 36, inertia 8837.303\n",
      "Iteration 37, inertia 8837.260\n",
      "Iteration 38, inertia 8837.242\n",
      "Converged at iteration 38: center shift 0.000000e+00 within tolerance 9.743080e-08\n",
      "Initialization complete\n",
      "Iteration  0, inertia 15556.469\n",
      "Iteration  1, inertia 9154.326\n",
      "Iteration  2, inertia 8980.569\n",
      "Iteration  3, inertia 8928.643\n",
      "Iteration  4, inertia 8908.688\n",
      "Iteration  5, inertia 8893.205\n",
      "Iteration  6, inertia 8880.751\n",
      "Iteration  7, inertia 8874.444\n",
      "Iteration  8, inertia 8869.551\n",
      "Iteration  9, inertia 8865.043\n",
      "Iteration 10, inertia 8861.558\n",
      "Iteration 11, inertia 8857.134\n",
      "Iteration 12, inertia 8854.513\n",
      "Iteration 13, inertia 8853.715\n",
      "Iteration 14, inertia 8853.137\n",
      "Iteration 15, inertia 8852.498\n",
      "Iteration 16, inertia 8851.965\n",
      "Iteration 17, inertia 8851.779\n",
      "Iteration 18, inertia 8851.630\n",
      "Iteration 19, inertia 8851.578\n",
      "Iteration 20, inertia 8851.528\n",
      "Iteration 21, inertia 8851.425\n",
      "Iteration 22, inertia 8851.209\n",
      "Iteration 23, inertia 8851.164\n",
      "Converged at iteration 23: center shift 0.000000e+00 within tolerance 9.743080e-08\n",
      "Initialization complete\n",
      "Iteration  0, inertia 15505.757\n",
      "Iteration  1, inertia 9130.610\n",
      "Iteration  2, inertia 8941.414\n",
      "Iteration  3, inertia 8877.110\n",
      "Iteration  4, inertia 8849.836\n",
      "Iteration  5, inertia 8837.790\n",
      "Iteration  6, inertia 8833.179\n",
      "Iteration  7, inertia 8830.502\n",
      "Iteration  8, inertia 8827.811\n",
      "Iteration  9, inertia 8826.462\n",
      "Iteration 10, inertia 8825.058\n",
      "Iteration 11, inertia 8824.102\n",
      "Iteration 12, inertia 8823.462\n",
      "Iteration 13, inertia 8822.772\n",
      "Iteration 14, inertia 8822.124\n",
      "Iteration 15, inertia 8821.745\n",
      "Iteration 16, inertia 8821.410\n",
      "Iteration 17, inertia 8820.780\n",
      "Iteration 18, inertia 8819.988\n",
      "Iteration 19, inertia 8819.627\n",
      "Iteration 20, inertia 8819.051\n",
      "Iteration 21, inertia 8817.788\n",
      "Iteration 22, inertia 8816.058\n",
      "Iteration 23, inertia 8815.618\n",
      "Iteration 24, inertia 8815.454\n",
      "Iteration 25, inertia 8815.255\n",
      "Iteration 26, inertia 8815.093\n",
      "Iteration 27, inertia 8814.823\n",
      "Iteration 28, inertia 8814.626\n",
      "Iteration 29, inertia 8814.454\n",
      "Iteration 30, inertia 8814.361\n",
      "Iteration 31, inertia 8814.332\n",
      "Iteration 32, inertia 8814.306\n",
      "Iteration 33, inertia 8814.280\n",
      "Iteration 34, inertia 8814.234\n",
      "Iteration 35, inertia 8814.133\n",
      "Iteration 36, inertia 8814.058\n",
      "Iteration 37, inertia 8813.986\n",
      "Iteration 38, inertia 8813.911\n",
      "Iteration 39, inertia 8813.885\n",
      "Iteration 40, inertia 8813.861\n",
      "Iteration 41, inertia 8813.840\n",
      "Iteration 42, inertia 8813.802\n",
      "Iteration 43, inertia 8813.773\n",
      "Iteration 44, inertia 8813.744\n",
      "Iteration 45, inertia 8813.740\n",
      "Converged at iteration 45: center shift 0.000000e+00 within tolerance 9.743080e-08\n",
      "Initialization complete\n",
      "Iteration  0, inertia 15423.656\n",
      "Iteration  1, inertia 9161.987\n",
      "Iteration  2, inertia 8963.294\n",
      "Iteration  3, inertia 8904.721\n",
      "Iteration  4, inertia 8884.624\n",
      "Iteration  5, inertia 8870.428\n",
      "Iteration  6, inertia 8860.412\n",
      "Iteration  7, inertia 8854.547\n",
      "Iteration  8, inertia 8849.514\n",
      "Iteration  9, inertia 8843.884\n",
      "Iteration 10, inertia 8839.311\n",
      "Iteration 11, inertia 8837.142\n",
      "Iteration 12, inertia 8835.064\n",
      "Iteration 13, inertia 8831.946\n",
      "Iteration 14, inertia 8828.467\n",
      "Iteration 15, inertia 8827.488\n",
      "Iteration 16, inertia 8826.660\n",
      "Iteration 17, inertia 8826.414\n",
      "Iteration 18, inertia 8826.317\n",
      "Iteration 19, inertia 8826.252\n",
      "Iteration 20, inertia 8826.225\n",
      "Iteration 21, inertia 8826.199\n",
      "Iteration 22, inertia 8826.183\n",
      "Iteration 23, inertia 8826.146\n",
      "Iteration 24, inertia 8826.121\n",
      "Iteration 25, inertia 8826.092\n",
      "Iteration 26, inertia 8826.040\n",
      "Iteration 27, inertia 8825.946\n",
      "Iteration 28, inertia 8825.895\n",
      "Iteration 29, inertia 8825.888\n",
      "Iteration 30, inertia 8825.877\n",
      "Converged at iteration 30: center shift 0.000000e+00 within tolerance 9.743080e-08\n",
      "Initialization complete\n",
      "Iteration  0, inertia 15520.998\n",
      "Iteration  1, inertia 9179.487\n",
      "Iteration  2, inertia 9005.285\n",
      "Iteration  3, inertia 8928.974\n",
      "Iteration  4, inertia 8884.036\n",
      "Iteration  5, inertia 8855.520\n",
      "Iteration  6, inertia 8841.063\n",
      "Iteration  7, inertia 8831.078\n",
      "Iteration  8, inertia 8821.269\n",
      "Iteration  9, inertia 8813.629\n",
      "Iteration 10, inertia 8808.981\n",
      "Iteration 11, inertia 8807.473\n",
      "Iteration 12, inertia 8806.479\n",
      "Iteration 13, inertia 8805.869\n",
      "Iteration 14, inertia 8805.484\n",
      "Iteration 15, inertia 8805.089\n",
      "Iteration 16, inertia 8804.802\n",
      "Iteration 17, inertia 8804.635\n",
      "Iteration 18, inertia 8804.453\n",
      "Iteration 19, inertia 8804.138\n",
      "Iteration 20, inertia 8803.702\n",
      "Iteration 21, inertia 8803.452\n",
      "Iteration 22, inertia 8803.404\n",
      "Iteration 23, inertia 8803.396\n",
      "Converged at iteration 23: center shift 0.000000e+00 within tolerance 9.743080e-08\n",
      "Initialization complete\n",
      "Iteration  0, inertia 10555.495\n",
      "Iteration  1, inertia 9591.741\n",
      "Iteration  2, inertia 9265.423\n",
      "Iteration  3, inertia 9138.354\n",
      "Iteration  4, inertia 9086.875\n",
      "Iteration  5, inertia 9064.784\n",
      "Iteration  6, inertia 9047.434\n",
      "Iteration  7, inertia 9027.475\n",
      "Iteration  8, inertia 9017.545\n",
      "Iteration  9, inertia 9013.954\n",
      "Iteration 10, inertia 9012.247\n",
      "Iteration 11, inertia 9011.480\n",
      "Iteration 12, inertia 9010.842\n",
      "Iteration 13, inertia 9007.731\n",
      "Iteration 14, inertia 8992.570\n",
      "Iteration 15, inertia 8981.582\n",
      "Iteration 16, inertia 8979.405\n",
      "Iteration 17, inertia 8979.095\n",
      "Iteration 18, inertia 8979.010\n",
      "Iteration 19, inertia 8978.887\n",
      "Iteration 20, inertia 8978.813\n",
      "Iteration 21, inertia 8978.800\n",
      "Iteration 22, inertia 8978.797\n",
      "Converged at iteration 22: center shift 0.000000e+00 within tolerance 9.743080e-08\n"
     ]
    }
   ],
   "source": [
    "from sklearn.cluster import KMeans\n",
    "\n",
    "# 超参数\n",
    "n_clusters=50\n",
    "max_iter=100\n",
    "\n",
    "\n",
    "\n",
    "kmeans = KMeans(n_clusters=n_clusters,\n",
    "                    max_iter=max_iter,\n",
    "                    n_init=8,\n",
    "                    init='k-means++',\n",
    "                    n_jobs=-1,\n",
    "                    random_state=0,\n",
    "                    verbose=1)\n",
    "labels = kmeans.fit_predict(tfidf)"
   ]
  },
  {
   "cell_type": "code",
   "execution_count": 79,
   "metadata": {},
   "outputs": [
    {
     "name": "stdout",
     "output_type": "stream",
     "text": [
      "轮廓系数 (higher, better): 0.045\n",
      "CH指数 (higher, better): 46.913\n",
      "DB指数 (lower, better): 4.163\n",
      "\n",
      "历史轮廓系数 (higher, better): [0.04513760410384626]\n",
      "历史CH指数 (higher, better): [46.91335143219225]\n",
      "历史DB指数 (lower, better): [4.162748333617319]\n"
     ]
    },
    {
     "name": "stderr",
     "output_type": "stream",
     "text": [
      "/Users/dada/anaconda3/lib/python3.6/site-packages/sklearn/metrics/cluster/unsupervised.py:342: RuntimeWarning: divide by zero encountered in true_divide\n",
      "  score = (intra_dists[:, None] + intra_dists) / centroid_distances\n"
     ]
    }
   ],
   "source": [
    "from sklearn import metrics\n",
    "\n",
    "si_scores, ch_scores, db_scores = [], [], []\n",
    "\n",
    "x = tfidf.toarray()\n",
    "si_score = metrics.silhouette_score(x, labels)  # 轮廓系数 [-1, 1], higher, better\n",
    "ch_score = metrics.calinski_harabaz_score(x, labels)  # CH指数 higher, better\n",
    "db_score = metrics.davies_bouldin_score(x, labels)  # DB指数 lower, better\n",
    "\n",
    "si_scores.append(si_score)\n",
    "ch_scores.append(ch_score)\n",
    "db_scores.append(db_score)\n",
    "\n",
    "print('轮廓系数 (higher, better): %.3f' % si_score)\n",
    "print('CH指数 (higher, better): %.3f' % ch_score)\n",
    "print('DB指数 (lower, better): %.3f'% db_score)\n",
    "print()\n",
    "\n",
    "print('历史轮廓系数 (higher, better):', si_scores)\n",
    "print('历史CH指数 (higher, better):', ch_scores)\n",
    "print('历史DB指数 (lower, better):', db_scores)"
   ]
  },
  {
   "cell_type": "markdown",
   "metadata": {},
   "source": [
    "# *DBSCAN聚类 (超参数更难选择)"
   ]
  },
  {
   "cell_type": "code",
   "execution_count": 80,
   "metadata": {},
   "outputs": [
    {
     "name": "stdout",
     "output_type": "stream",
     "text": [
      "轮廓系数 (higher, better): -0.276\n",
      "CH指数 (higher, better): 9.344\n",
      "DB指数 (lower, better): 1.862\n"
     ]
    },
    {
     "name": "stderr",
     "output_type": "stream",
     "text": [
      "/Users/dada/anaconda3/lib/python3.6/site-packages/sklearn/metrics/cluster/unsupervised.py:342: RuntimeWarning: divide by zero encountered in true_divide\n",
      "  score = (intra_dists[:, None] + intra_dists) / centroid_distances\n",
      "/Users/dada/anaconda3/lib/python3.6/site-packages/sklearn/metrics/cluster/unsupervised.py:342: RuntimeWarning: invalid value encountered in true_divide\n",
      "  score = (intra_dists[:, None] + intra_dists) / centroid_distances\n"
     ]
    }
   ],
   "source": [
    "from sklearn.cluster import DBSCAN\n",
    "\n",
    "# 超参数（不好选择）\n",
    "eps = 0.5\n",
    "min_samples = 5\n",
    "\n",
    "dbscan = DBSCAN(eps=eps, min_samples=min_samples)\n",
    "dbscan_labels = dbscan.fit_predict(tfidf)\n",
    "\n",
    "si_score = metrics.silhouette_score(x, dbscan_labels)  # 轮廓系数 [-1, 1], higher, better\n",
    "ch_score = metrics.calinski_harabaz_score(x, dbscan_labels)  # CH指数 higher, better\n",
    "db_score = metrics.davies_bouldin_score(x, dbscan_labels)  # DB指数 lower, better\n",
    "\n",
    "print('轮廓系数 (higher, better): %.3f' % si_score)\n",
    "print('CH指数 (higher, better): %.3f' % ch_score)\n",
    "print('DB指数 (lower, better): %.3f'% db_score)"
   ]
  },
  {
   "cell_type": "markdown",
   "metadata": {},
   "source": [
    "## 4. 统计每个簇中对话的数量"
   ]
  },
  {
   "cell_type": "code",
   "execution_count": 81,
   "metadata": {},
   "outputs": [
    {
     "data": {
      "image/png": "[encoded data removed]",
      "text/plain": [
       "<Figure size 576x432 with 1 Axes>"
      ]
     },
     "metadata": {},
     "output_type": "display_data"
    }
   ],
   "source": [
    "counts = [(labels == idx).sum() for idx in range(n_clusters)]\n",
    "\n",
    "plt.figure(figsize=(8, 6))\n",
    "plt.bar(range(n_clusters), counts)\n",
    "plt.show()"
   ]
  },
  {
   "cell_type": "markdown",
   "metadata": {},
   "source": [
    "## 5. 取每个类别中tfidf高的前22个关键词"
   ]
  },
  {
   "cell_type": "code",
   "execution_count": 82,
   "metadata": {
    "scrolled": false
   },
   "outputs": [
    {
     "name": "stdout",
     "output_type": "stream",
     "text": [
      "cluster #0: 拦截 成功 拒收 进行 签收 正常 审核 回应 返回 尝试 恢复 撤销 无法 系统 后期 财务 继续 失败 操作 安排 回复 人工\n",
      "\n"
     ]
    },
    {
     "data": {
      "image/png": "[encoded data removed]",
      "text/plain": [
       "<Figure size 432x288 with 1 Axes>"
      ]
     },
     "metadata": {},
     "output_type": "display_data"
    },
    {
     "name": "stdout",
     "output_type": "stream",
     "text": [
      "cluster #1: 退回 拒收 稍等一下 途中 左右 仓库 付款 短信 一直 之后 成功 原返 东西 退回去 删除 客服 放心 拦截 优惠 人工 操作 财务\n",
      "\n"
     ]
    },
    {
     "data": {
      "image/png": "[encoded data removed]",
      "text/plain": [
       "<Figure size 432x288 with 1 Axes>"
      ]
     },
     "metadata": {},
     "output_type": "display_data"
    },
    {
     "name": "stdout",
     "output_type": "stream",
     "text": [
      "cluster #2: 返还 回复 之后 原路 款项 拒收 查收 删除 一直 工作日 跟进 我会 多个 一对一 消息 财务 放心 退回来 拦截 还要 成功 乐意\n",
      "\n"
     ]
    },
    {
     "data": {
      "image/png": "[encoded data removed]",
      "text/plain": [
       "<Figure size 432x288 with 1 Axes>"
      ]
     },
     "metadata": {},
     "output_type": "display_data"
    },
    {
     "name": "stdout",
     "output_type": "stream",
     "text": [
      "cluster #3: 稍等一下 换货 看看 客服 东西 知道 善解人意 备注 查看 建议您 支付 为您服务 两个 应该 安排 无法 不用 师傅 付款 包裹 我要 操作\n",
      "\n"
     ]
    },
    {
     "data": {
      "image/png": "[encoded data removed]",
      "text/plain": [
       "<Figure size 432x288 with 1 Axes>"
      ]
     },
     "metadata": {},
     "output_type": "display_data"
    },
    {
     "name": "stdout",
     "output_type": "stream",
     "text": [
      "cluster #4: 发票 电子 开具 纸质 邮寄 开发票 下载 此单 增值税 查看 小时 一起 修改 财务 之后 工作日 寄出 选择 外包装 电脑 增票 开票\n",
      "\n"
     ]
    },
    {
     "data": {
      "image/png": "[encoded data removed]",
      "text/plain": [
       "<Figure size 432x288 with 1 Axes>"
      ]
     },
     "metadata": {},
     "output_type": "display_data"
    },
    {
     "name": "stdout",
     "output_type": "stream",
     "text": [
      "cluster #5: 签收 途中 准备 感谢您 东西 没收 师傅 稍等一下 是否 看看 派送 昨天 短信 反馈 找到 放心 物流 拒收 打电话 不到 到货 通知\n",
      "\n"
     ]
    },
    {
     "data": {
      "image/png": "[encoded data removed]",
      "text/plain": [
       "<Figure size 432x288 with 1 Axes>"
      ]
     },
     "metadata": {},
     "output_type": "display_data"
    },
    {
     "name": "stdout",
     "output_type": "stream",
     "text": [
      "cluster #6: 价保 降价 成功 支付 价格 差价 保价 保护 方式 原返 工作日 优惠券 付款 返回 一致 昨天 skui 保单 系统 作废 查收 余额\n",
      "\n"
     ]
    },
    {
     "data": {
      "image/png": "[encoded data removed]",
      "text/plain": [
       "<Figure size 432x288 with 1 Axes>"
      ]
     },
     "metadata": {},
     "output_type": "display_data"
    },
    {
     "name": "stdout",
     "output_type": "stream",
     "text": [
      "cluster #7: 手机 畅通 保持 提现 验证码 余额 银行卡 电脑 银行 发送 善解人意 工作日内 页面 客服 绑定 手中 厂商 备注 知道 系统 小金库 名称\n",
      "\n"
     ]
    },
    {
     "data": {
      "image/png": "[encoded data removed]",
      "text/plain": [
       "<Figure size 432x288 with 1 Axes>"
      ]
     },
     "metadata": {},
     "output_type": "display_data"
    },
    {
     "name": "stdout",
     "output_type": "stream",
     "text": [
      "cluster #8: 质保 联保 期为 全国 三包 维修 享受 产品 客户服务 服务 退换 保修 一年 返修 超出 点击 app 退换货 充电 链接 路径 进行\n",
      "\n"
     ]
    },
    {
     "data": {
      "image/png": "[encoded data removed]",
      "text/plain": [
       "<Figure size 432x288 with 1 Axes>"
      ]
     },
     "metadata": {},
     "output_type": "display_data"
    },
    {
     "name": "stdout",
     "output_type": "stream",
     "text": [
      "cluster #9: 维修 换货 包装 返厂 质保 返回 检测 周期 左右 退换货 取件 承担 备注 之后 发票 服务 质量 客服 超出 使用 更好 耳机\n",
      "\n"
     ]
    },
    {
     "data": {
      "image/png": "[encoded data removed]",
      "text/plain": [
       "<Figure size 432x288 with 1 Axes>"
      ]
     },
     "metadata": {},
     "output_type": "display_data"
    }
   ],
   "source": [
    "clusters = [[] for _ in range(n_clusters)]\n",
    "for i in range(len(corpus)):\n",
    "    clusters[labels[i]].append(corpus[i])\n",
    "    \n",
    "td = list(map(lambda x: x.toarray().squeeze(), tfidf))\n",
    "    \n",
    "vectorss = [[] for _ in range(n_clusters)]\n",
    "for i in range(len(corpus)):\n",
    "    vectorss[labels[i]].append(td[i])\n",
    "    \n",
    "terms = tfidf_vectorizer.get_feature_names()\n",
    "    \n",
    "for idx, vectors in enumerate(vectorss[:10]):  # 查看指定范围的簇\n",
    "    vectors = np.array(vectors)\n",
    "    vectors = vectors.sum(0)\n",
    "    indexes = vectors.argsort()[:-1-22:-1]\n",
    "    words = [terms[idx] for idx in indexes]\n",
    "    h = [vectors[idx] for idx in indexes]\n",
    "    print('cluster #%d:' % idx, ' '.join(words), end='\\n\\n')\n",
    "    plt.bar(range(22), h)\n",
    "    plt.show()"
   ]
  },
  {
   "cell_type": "code",
   "execution_count": null,
   "metadata": {},
   "outputs": [],
   "source": [
    "# CountVectorizer角度找关键词\n",
    "# 会统计出较多意义不大的词，目前弃用\n",
    "\n",
    "# from sklearn.feature_extraction.text import CountVectorizer\n",
    "\n",
    "# clusters = [[] for _ in range(n_clusters)]\n",
    "# for i in range(len(corpus)):\n",
    "#     clusters[labels[i]].append(corpus[i])\n",
    "\n",
    "# for idx in range(49, 50):  # 查看前n个类别\n",
    "#     vectorizer = CountVectorizer()\n",
    "#     count = vectorizer.fit_transform(clusters[idx])\n",
    "#     features = vectorizer.get_feature_names()\n",
    "#     counts = count.toarray().sum(0)\n",
    "#     index = counts.argsort()[-1:-1-20:-1]\n",
    "#     print('Topic #%d: (%d) ' % (idx, len(clusters[idx])), end='')\n",
    "    \n",
    "#     words = [features[i] for i in index]\n",
    "#     print(' '.join(words), end='\\n\\n')\n",
    "    \n",
    "#     h = [counts[i] for i in index]\n",
    "#     plt.bar(range(20), h)\n",
    "#     plt.show()"
   ]
  },
  {
   "cell_type": "markdown",
   "metadata": {},
   "source": [
    "## 6. 展示指定类别中的对话"
   ]
  },
  {
   "cell_type": "code",
   "execution_count": 84,
   "metadata": {
    "scrolled": false
   },
   "outputs": [
    {
     "name": "stdout",
     "output_type": "stream",
     "text": [
      "cluster #4: 发票 电子 开具 纸质 邮寄 开发票 下载 此单 增值税 查看 小时 一起 修改 财务 之后 工作日 寄出 选择 外包装 电脑 增票 开票\n",
      "\n"
     ]
    },
    {
     "data": {
      "image/png": "[encoded data removed]",
      "text/plain": [
       "<Figure size 432x288 with 1 Axes>"
      ]
     },
     "metadata": {},
     "output_type": "display_data"
    },
    {
     "name": "stdout",
     "output_type": "stream",
     "text": [
      "0 没有售后票子吗 下单时间:[日期x]\n",
      "1 什么票子?\n",
      "0 保修的单子\n",
      "1 您的订单开具的是电子发票，电子发票一样具有法律效应。电子发票是在订单完成后的[数字x]H内开具，您可以在我的订单页面点击下载电子发票。\n",
      "0 哦哦[数字x]小时内呗 谢谢\n",
      "1 恩 月初有些延时，也有可能是[数字x]H内 很高兴遇到您这么善解人意的客户，请问还有其他还可以帮到您的吗?#E-s[数字x]#E-s[数字x] 遇到像您这样宽容的客户真是对我莫大的支持呢~#E-s[数字x]还辛苦您点击“+”给小妹评价下~#E-s[数字x]天凉了哦~要多多注意保暖哦~#E-s[数字x]\n",
      "0 在\n",
      "1 在\n",
      "0 正常苹果售后都可以保吗 还是\n",
      "1 可以\n",
      "0 谢谢\n",
      "\n",
      "0 在吗 下单时间:[日期x] 人工 下单时间:[日期x]\n",
      "1 有什么问题我可以帮您处理或解决呢?#E-s[数字x]\n",
      "0 您好，我刚才买了两张[数字x]京东卡，是两个订单号\n",
      "1 小妹为您看看，您稍等哦#E-s[数字x]\n",
      "0 发票可以开一张[数字x]的，发票的收件地址和商品的收件地址不是同一个 能分别邮寄吗 下单时间:[日期x] 下单时间:[日期x] 人工\n",
      "1 订单后期会开电子发票的 一个订单一张发票\n",
      "0 京东购物卡开的是电子发票吗\n",
      "1 恩\n",
      "0 哦哦\n",
      "\n",
      "1 有什么问题我可以帮您处理或解决呢? 还请您稍等，马上为您查询~ 您好\n",
      "0 您好，我这个订单有一笔退货，那我想问下我原来开出的发票还能用吗?\n",
      "1 请问是这个商品吗 [商品快照]\n",
      "0 是那个存储卡 和绿联这两笔开在一起了\n",
      "1 [商品快照] 如果退货 不印象的 硬性 影响 这个发票是电子票\n",
      "0 那我可以继续使用已经开出的发对吗?\n",
      "1 您退货 系统会重开的\n",
      "0 那就是退货完成之后，系统就重新给我开一次票吗?我不用从新申请吧\n",
      "1 是的呢 不用您操作的 您退货后系统会处理的\n",
      "0 好的，知道了，谢谢\n",
      "\n",
      "0 https://item.jd.com/4593266.html 您好 我这个充电宝有点问题 发票在电脑上是电子的那种 怎么办啊\n",
      "1 点击我的订单-商品左上方-订单编号，复制给我就可以了呢#E-s[数字x]\n",
      "0 &nbsp;[ORDERID_10000158]\n",
      "1 是申请售后维修的吗\n",
      "0 对\n",
      "1 申请维修无法提供发票\n",
      "0 那我应该怎么办呢 没有发票可以修吗\n",
      "1 申请售后维修是不需要提供发票的 #E-s[数字x]#E-s[数字x]#E-s[数字x]#E-s[数字x]#E-s[数字x]#E-s[数字x]\n",
      "0 哦 那我直接寄过去就行了是吗\n",
      "1 审核通过了吗 审核通过后会告知您地址的 您按照地址邮寄就可以的\n",
      "0 好的 麻烦了 不用发票对吧\n",
      "1 不要发票的 #E-s[数字x]#E-s[数字x]#E-s[数字x]#E-s[数字x]#E-s[数字x]\n",
      "0 [姓名x]\n",
      "1 #E-b[数字x] 请问还有其他还可以帮到您的吗?\n",
      "0 没有了 评价了 谢谢\n",
      "\n",
      "0 [时间x]]\n",
      "1 有什么问题我可以帮您处理或解决呢?\n",
      "0 电子发票什么时候开给我呢\n",
      "1 还请您稍等，马上为您查询~ 等待订单完成[数字x]小时之后，麻烦亲在手机端app-我的-客户服务-发票服务-查看，或者电脑端-我的订单-左下角-我的发票-查询#E-s[数字x] 您好\n",
      "0 电子发票不能收到货之后就开出来吗?\n",
      "1 不是的哈\n",
      "0 那就是订单完成[数字x]小时后咯?\n",
      "1 请您耐心等待一下呀\n",
      "0 好吧\n",
      "\n",
      "0 新年快乐\n",
      "1 有什么问题我可以帮您处理或解决呢?\n",
      "0 新年快乐，您能看到我有一个退货申请，筷子的。 昨天申请的，没有反应了。 已经让快递小哥取走了。\n",
      "1 [ORDERID_10005322] 商品已为您处理，京东配送将在[数字x]-[数字x]天内为您上门取件，请准备好商品、包装、附件交给配送人员(注:电子发票及换货，发票无需退回)。\n",
      "0 对的就是这个\n",
      "1 #E-s[数字x] 请问还有其他还可以帮到您的吗?\n",
      "0 没了\n",
      "\n",
      "0 发票暂时先别开 在吗 确定公司名称后再开\n",
      "1 辛苦亲亲提供一下订单号哈~小妹去看看呢#E-s[数字x]\n",
      "0 [时间x] 这个。 [姓名x]\n",
      "1 稍等 您这边之前选择的是电子发票 后期可以联系我们换开的哈\n",
      "0 是可以换开的吗 个人的可以改公司的吗? 小姐姐?\n",
      "1 可以的哈\n",
      "0 好。 [姓名x]\n",
      "\n",
      "1 有什么问题我可以帮您处理或解决呢?\n",
      "0 我的订单发票开了吗\n",
      "1 开具 您收到商品了吗\n",
      "0 收到一半 订单完成后是开电子发票吗?\n",
      "1 点击确认收货 会给您开具发票的哈 电子\n",
      "0 好\n",
      "1 #E-s[数字x] 请问还有其他还可以帮到您的吗?\n",
      "0 只要确认收就会开了吗?\n",
      "1 是的亲\n",
      "0 好\n",
      "1 开具的哈 请问还有其他还可以帮到您的吗?\n",
      "\n",
      "0 发票呢\n",
      "1 请您稍等一下，正在为您核实处理中哦~\n",
      "0 好的\n",
      "1 开具电子发货票\n",
      "0 我怎么打印 在哪里打印\n",
      "1 发票信息\n",
      "0 是先确认收获吗\n",
      "1 不需要您确认的 配送会安排处理的哈\n",
      "0 那我的发票在哪里打印，我没有找到\n",
      "1 还没有开具亲 您订单还没有完成 订单完成之后的[数字x]-[数字x]个工作日开具 还请您等待一下哈\n",
      "0 好的谢谢\n",
      "\n",
      "0 下单时间:[日期x]\n",
      "1 有什么问题我可以帮您处理或解决呢?\n",
      "0 下单时间:[日期x] 你好，这个单子，已经申请售后\n",
      "1 是的哦\n",
      "0 这个预约取货时间可以修改么 我看快递员已经在我们楼下了，我现在就想给他 现在系统显示的预约取货时间是明天早上，我明天早上有事，不在家\n",
      "1 您给他就可以的\n",
      "0 现在给就行么?\n",
      "1 您看下他收吗 如果收就可以\n",
      "0 之前不是要生成取件单号后才可以么 系统上的这个预约时间不能改，是吧 我去问下快递员\n",
      "1 这个没有修改的按钮\n",
      "0 ok，是可以提前收的对吧\n",
      "1 如果配送收取就可以的\n",
      "0 还有个问题，我现在这个单子是和之前一个保暖裤的发票是开了一块呢，然后今天中午那个保暖裤已经退货了，发票也一块给了 所以现在这个袜子就没有发票了 我在退货申请里也说了，还贴了发票的图片\n",
      "1 好的哦\n",
      "0 那个这个退货就不需要发票了，对吧\n",
      "1 是的哦\n",
      "0 ok，谢谢\n",
      "1 请问还有其他还可以帮到您的吗?\n",
      "0 没了\n",
      "\n",
      "0 你好 发票找不到 确定了\n",
      "1 请稍等，马上为您核实之前的问题处理进度 您好 [ORDERID_10003011] 还请您稍等，马上为您查询~ [数字x]mm*[数字x]0入/包(P\n",
      "0 [姓名x] 加[数字x]个硬盘\n",
      "1 纸质发票是随商品一起过去的，一般是在京东袋子里或者是纸箱外面粘着，麻烦仔细查找谢谢， 没找到吗\n",
      "0 恩 确定了 箱子外面里面 商品包装表面 都找过了 没有\n",
      "1 那您这个商品的是报销的?\n",
      "0 是的\n",
      "1 但是您周期开具是个人的，我可以给您反馈系统补开发票，但是无法修改了 之前您开具什么样就是什么的哦\n",
      "0 无法修改是什么意思 只要跟我之前要求开的发票一样就可以了\n",
      "1 好的 那我反馈了 周期[数字x]-[数字x]个工作日的 开具后会给您邮寄过去的呢 税号有吗\n",
      "0 就开个人 按之前的一样 可以吗\n",
      "1 不要税号?\n",
      "0 恩\n",
      "1 好的\n",
      "0 就开个人\n",
      "1 明白了 我试试看\n",
      "0 [姓名x] 谢谢\n",
      "1 已经提交了 您电话对吗 后期帮您在跟进下\n",
      "0 对的 麻烦了 那没事了，[数字x]\n",
      "\n",
      "1 请问有什么可以帮您?\n",
      "0 你好，发票没有一起寄过来，是会另外寄吗?\n",
      "1 您的这个订单发票显示是为您开具了的。发票一般是粘贴在商品外包装上，或者是放在外包装夹层中间的。您有仔细查找过了吗?\n",
      "0 我找了没发现\n",
      "1 您这边是保修的吗 有订单在就是可以的哈\n",
      "0 我回去再找一下看\n",
      "1 可以的哈 有订单在就是可以申请售后的\n",
      "0 售后是松下的售后吧?有京东订单就可以找他们?\n",
      "1 打开京东-我的-客户服务-申请售后的呢 可以直接申请的呢\n",
      "0 哦\n",
      "1 请问还有其他还可以帮到您的吗?\n",
      "0 我知道了，谢谢你\n",
      "\n",
      "1 有什么问题我可以帮您处理或解决呢?#E-s[数字x]\n",
      "0 你好，晾衣架的包装内没有纸质发票\n",
      "1 小妹为您看看，您稍等哦#E-s[数字x] 您的发票已经显示开具咯，发票一般是粘贴在商品外包装上或者在外包装夹层里，还请您再仔细找找哦，应该是在某个角落呢。建议找找呢\n",
      "0 主杆的筒内确定没有 在配件的盒子?\n",
      "1 发票一般是粘贴在商品外包装上\n",
      "0 找到了 在配件盒子\n",
      "\n",
      "0 您好 [时间x]] 您好\n",
      "1 您好 有什么问题我可以帮您处理或解决呢?\n",
      "0 您好，您能看到我选的商品吗 这个商品的发票能否请您帮我查一下呢\n",
      "1 还请您稍等，马上为您查询~\n",
      "0 我们单位说我没有报销，能不能麻烦将您这边的发票复印一下盖个公章给我呢#E-s[数字x]\n",
      "1 您好 真是不好意思#E-s[数字x] 目前我们客服系统异常，暂时无法查看订单 您好 为您查询到此单之前开具的是专票\n",
      "0 谢谢\n",
      "1 很高兴遇到您这么善解人意的客户，请问还有其他还可以帮到您的吗?#E-s[数字x]#E-s[数字x]\n",
      "0 那能不能麻烦您将发票复印一下盖章再给我寄一份呢 就是你们的存底的那份复印一份给我 行吗 #E-s[数字x]\n",
      "1 为您反应财务核实提供，预计[数字x]到[数字x]工作日开具邮寄 请您耐心等待一下呀#E-s[数字x]\n",
      "0 谢谢，烦请您给财务的同事说一下要盖章哦~\n",
      "1 #E-s[数字x]\n",
      "0 然后和您确认一下是[数字x]元把\n",
      "1 您放心吧 是的\n",
      "0 谢谢 太感谢了!\n",
      "\n",
      "0 订单:[ORDERID_10002781]这个订单麻烦看下发票开了没?谢谢! [时间x]] 订单:[ORDERID_10002781]这个订单麻烦看下发票开了没?谢谢!\n",
      "1 还请您稍等，马上为您查询~ 此单发票在[数字x]月[数字x]号开具，邮寄单号VB[数字x] 显示[数字x]月[数字x]号被配送员:[姓名x]，电话:[电话x]配送完成\n",
      "0 是增值税还是[姓名x]票 您这边能看到吗?\n",
      "1 增值税专票\n",
      "0 好的 发票号有吗\n",
      "1 亲爱的，请稍等哈 [数字x]\n",
      "0 谢谢\n",
      "1 很高兴遇到您这么善解人意的客户，请问还有其他还可以帮到您的吗?#E-s[数字x]#E-s[数字x]\n",
      "0 谢谢\n"
     ]
    }
   ],
   "source": [
    "import numpy as np\n",
    "\n",
    "# 要查看的类别号\n",
    "topic_idx = 4\n",
    "\n",
    "# 展示关键词\n",
    "vectors = np.array(vectorss[topic_idx])\n",
    "vectors = vectors.sum(0)\n",
    "indexes = vectors.argsort()[:-1-22:-1]\n",
    "words = [terms[idx] for idx in indexes]\n",
    "h = [vectors[idx] for idx in indexes]\n",
    "print('cluster #%d:' % topic_idx, ' '.join(words), end='\\n\\n')\n",
    "plt.bar(range(22), h)\n",
    "plt.show()\n",
    "\n",
    "\n",
    "# 打印对话内容\n",
    "indexes = np.where(labels == topic_idx)[0]  # 找出指定类别编号的索引\n",
    "convs = [data[i] for i in indexes]  # 根据索引找出对话数据\n",
    "\n",
    "convs = convs[:15]  # 查看前n段对话\n",
    "print('\\n\\n'.join(convs))"
   ]
  }
 ],
 "metadata": {
  "kernelspec": {
   "display_name": "Python 3",
   "language": "python",
   "name": "python3"
  },
  "language_info": {
   "codemirror_mode": {
    "name": "ipython",
    "version": 3
   },
   "file_extension": ".py",
   "mimetype": "text/x-python",
   "name": "python",
   "nbconvert_exporter": "python",
   "pygments_lexer": "ipython3",
   "version": "3.6.5"
  }
 },
 "nbformat": 4,
 "nbformat_minor": 2
}
