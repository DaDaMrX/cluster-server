{
 "cells": [
  {
   "cell_type": "code",
   "execution_count": null,
   "metadata": {},
   "outputs": [],
   "source": [
    "import pymysql.cursors\n",
    "\n",
    "config = {\n",
    "    'host': '9.59.150.218',\n",
    "    'port': 3306, \n",
    "    'user': 'iboost',\n",
    "    'password': 'passw0rd',\n",
    "    'db': 'BOOSTDB'\n",
    "}\n",
    "\n",
    "# cnx = pymysql.connect(\n",
    "#     host='9.59.150.218',\n",
    "#     port=3306, \n",
    "#     user='iboost',\n",
    "#     password='passw0rd',\n",
    "#     db='BOOSTDB')\n",
    "\n",
    "cnx = pymysql.connect(**config)\n",
    "\n",
    "print(cnx)"
   ]
  },
  {
   "cell_type": "code",
   "execution_count": null,
   "metadata": {},
   "outputs": [],
   "source": [
    "import mysql.connector\n",
    "\n",
    "config = {\n",
    "    'host': '127.0.0.1',\n",
    "    'port': 3306,\n",
    "    'user': 'root',\n",
    "    'password': 'xuhengda',\n",
    "    'database': 'BOOSTDB',\n",
    "}\n",
    "cnx = mysql.connector.connect(**config)"
   ]
  },
  {
   "cell_type": "markdown",
   "metadata": {},
   "source": [
    "# [前端] 把csv文件存入数据库\n",
    "* 写UTTERANCES表\n",
    "* 用时较长（待优化）\n",
    "* INSERT次数太多"
   ]
  },
  {
   "cell_type": "code",
   "execution_count": null,
   "metadata": {
    "scrolled": false
   },
   "outputs": [],
   "source": [
    "import csv\n",
    "\n",
    "bot_id = '0'\n",
    "# cnx = mysql.connector.connect(**config)\n",
    "cnx = pymysql.connect(**config)\n",
    "cursor = cnx.cursor()\n",
    "csv_file = 'chat.csv'\n",
    "with open(csv_file, encoding='utf-8') as f:\n",
    "    reader = csv.reader(f, delimiter=',')\n",
    "    file = list(reader)\n",
    "    \n",
    "l = 0\n",
    "for l in range(0, len(file), 5000):\n",
    "    a = file[l:l+5000]\n",
    "    print(l, l+5000, len(a))\n",
    "    sql = 'INSERT INTO CLUSTERRING_UTTERANCES (BOT_ID, CONV_ID, SPEAKER_ID, UTTERANCE) VALUES'\n",
    "    sql_values = ' (%s, %s, %s, %s),' * len(a)\n",
    "    sql += sql_values[:-1]\n",
    "    data = []\n",
    "    for conv_id, speaker_id, utterance in a:\n",
    "        data.extend([bot_id, int(conv_id), int(speaker_id), utterance])\n",
    "    cursor.execute(sql, data)\n",
    "    cnx.commit()\n",
    "    \n",
    "cursor.close()\n",
    "cnx.close()"
   ]
  },
  {
   "cell_type": "markdown",
   "metadata": {},
   "source": [
    "# [前端] 注册BOT_ID\n",
    "* 写BOTS表"
   ]
  },
  {
   "cell_type": "code",
   "execution_count": 66,
   "metadata": {},
   "outputs": [],
   "source": [
    "# cnx = mysql.connector.connect(**config)\n",
    "cnx = pymysql.connect(**config)\n",
    "bot_id = '0'\n",
    "cursor = cnx.cursor()\n",
    "sql = 'INSERT INTO CLUSTERRING_TASKS (BOT_ID) VALUES (%s)'\n",
    "data = (bot_id,)\n",
    "cursor.execute(sql, data)\n",
    "cnx.commit()\n",
    "cursor.close()\n",
    "cnx.close()"
   ]
  },
  {
   "cell_type": "markdown",
   "metadata": {},
   "source": [
    "# [前端] 发送请求"
   ]
  },
  {
   "cell_type": "code",
   "execution_count": null,
   "metadata": {
    "scrolled": false
   },
   "outputs": [],
   "source": [
    "import urllib.parse, urllib.request\n",
    "import json\n",
    "import time\n",
    "\n",
    "import matplotlib.pyplot as plt\n",
    "import numpy as np\n",
    "%matplotlib inline\n",
    "\n",
    "url = 'http://localhost:8080/cluster'\n",
    "\n",
    "data = {\n",
    "    'bot_id': '0',\n",
    "    'stop_words': [],\n",
    "    'max_df': 0.1,\n",
    "    'min_df': 20,\n",
    "    'n_clusters': 50,\n",
    "    'method': 'kmeans'\n",
    "}\n",
    "\n",
    "data = json.dumps(data).encode('utf8')\n",
    "headers = {'content-type': 'application/json'}\n",
    "req = urllib.request.Request(url, data=data, headers=headers)\n",
    "\n",
    "result = urllib.request.urlopen(req).read().decode()\n",
    "print(result)\n"
   ]
  },
  {
   "cell_type": "code",
   "execution_count": null,
   "metadata": {},
   "outputs": [],
   "source": [
    "def query():\n",
    "    cnx = mysql.connector.connect(**config)\n",
    "    bot_id = '0'\n",
    "    cursor = cnx.cursor()\n",
    "    sql = 'SELECT IS_COMPLETED, PROGRESS FROM CLUSTERRING_TASKS WHERE BOT_ID = %s'\n",
    "    data = (bot_id,)\n",
    "    cursor.execute(sql, data)\n",
    "    c, p = cursor.fetchone()\n",
    "    is_completed = True if int(c) == 1 else False\n",
    "    cursor.close()\n",
    "    cnx.close()\n",
    "    return is_completed\n",
    "\n",
    "start = time.time()\n",
    "while True:\n",
    "    is_completed = query()\n",
    "    if not is_completed:\n",
    "        print(is_completed, '%.2fs' % (time.time() - start))\n",
    "        time.sleep(2)\n",
    "    else:\n",
    "        print(is_completed, '%.2fs' % (time.time() - start))\n",
    "        break"
   ]
  },
  {
   "cell_type": "markdown",
   "metadata": {},
   "source": [
    "# [前端] 读DF\n",
    "* 读WORDS表"
   ]
  },
  {
   "cell_type": "code",
   "execution_count": null,
   "metadata": {},
   "outputs": [],
   "source": [
    "import matplotlib.pyplot as plt\n",
    "import numpy as np\n",
    "%matplotlib inline\n",
    "\n",
    "cnx = mysql.connector.connect(**config)\n",
    "cursor = cnx.cursor()\n",
    "sql = 'SELECT DF FROM CLUSTERRING_WORDS WHERE BOT_ID = %s ORDER BY DF ASC'\n",
    "data = (bot_id,)\n",
    "cursor.execute(sql, data)\n",
    "df = list(map(lambda t: float(t[0]), cursor))\n",
    "cursor.close()\n",
    "cnx.close()\n",
    "\n",
    "print('total words:', len(df))\n",
    "\n",
    "print('文件频率df-词数')\n",
    "plt.hist(df, 200)\n",
    "plt.show()\n",
    "\n",
    "print('每个词的文件频率df')\n",
    "df.sort()\n",
    "plt.bar(np.arange(len(df)), df)\n",
    "plt.show()"
   ]
  },
  {
   "cell_type": "markdown",
   "metadata": {},
   "source": [
    "# [前端] 查询CH指数\n",
    "* 读BOTS表"
   ]
  },
  {
   "cell_type": "code",
   "execution_count": null,
   "metadata": {},
   "outputs": [],
   "source": [
    "cnx = mysql.connector.connect(**config)\n",
    "cursor = cnx.cursor()\n",
    "sql = 'SELECT CH FROM CLUSTERRING_TASKS WHERE BOT_ID = %s'\n",
    "data = (bot_id,)\n",
    "cursor.execute(sql, data)\n",
    "ch = float(cursor.fetchone()[0]) \n",
    "cursor.close()\n",
    "cnx.close()\n",
    "\n",
    "print('CH: %.3f' % ch)"
   ]
  },
  {
   "cell_type": "markdown",
   "metadata": {},
   "source": [
    "# [前端] 查询每个簇中对话的数量\n",
    "* 读CLUSTERS表"
   ]
  },
  {
   "cell_type": "code",
   "execution_count": null,
   "metadata": {},
   "outputs": [],
   "source": [
    "cnx = mysql.connector.connect(**config)\n",
    "n_clusters = 50 # 参数\n",
    "\n",
    "cursor = cnx.cursor()\n",
    "sql = 'SELECT VOLUME FROM CLUSTERRING_CLUSTERS WHERE BOT_ID = %s'\n",
    "data = (bot_id,)\n",
    "cursor.execute(sql, data)\n",
    "volumes = [vol for (vol,) in cursor]\n",
    "cursor.close()\n",
    "cnx.close()\n",
    "\n",
    "plt.figure(figsize=(8, 6))\n",
    "plt.bar(range(n_clusters), volumes)\n",
    "plt.show()"
   ]
  },
  {
   "cell_type": "markdown",
   "metadata": {},
   "source": [
    "# [前端] 展示每个簇的关键词\n",
    "* 联合查询CLUSTER_KEYWORDS和WORDS"
   ]
  },
  {
   "cell_type": "code",
   "execution_count": null,
   "metadata": {},
   "outputs": [],
   "source": [
    "cnx = mysql.connector.connect(**config)\n",
    "cursor = cnx.cursor()\n",
    "sql = ('SELECT CLUSTERRING_WORDS.WORD, CLUSTERRING_CLUSTERKEYWORDS.TFIDF '\n",
    "       'FROM CLUSTERRING_CLUSTERKEYWORDS INNER JOIN CLUSTERRING_WORDS '\n",
    "       'WHERE CLUSTERRING_CLUSTERKEYWORDS.WORD_ID = CLUSTERRING_WORDS.WORD_ID '\n",
    "       'AND CLUSTERRING_WORDS.BOT_ID = %s AND CLUSTERRING_CLUSTERKEYWORDS.BOT_ID = CLUSTERRING_WORDS.BOT_ID '\n",
    "       'AND CLUSTER_ID = %s '\n",
    "       'ORDER BY CLUSTERRING_CLUSTERKEYWORDS.TFIDF DESC')\n",
    "\n",
    "for cluster_id in range(5):\n",
    "    data = (bot_id, cluster_id)\n",
    "    cursor.execute(sql, data)\n",
    "\n",
    "    words = []\n",
    "    values = []\n",
    "    for word, value in cursor:\n",
    "        words.append(word)\n",
    "        values.append(float(value))\n",
    "\n",
    "    num = 22\n",
    "    print('cluster #%d:' % cluster_id, ' '.join(words[:num]), end='\\n\\n')\n",
    "    plt.bar(range(num), values[:num])\n",
    "    plt.show()\n",
    "cursor.close()\n",
    "cnx.close()"
   ]
  },
  {
   "cell_type": "markdown",
   "metadata": {},
   "source": [
    "# [前端] 查看指定簇\n",
    "* 联合查询CLUSTER_KEYWORDS和WORDS\n",
    "* 联合查询CONVS和UTTERANCES"
   ]
  },
  {
   "cell_type": "code",
   "execution_count": null,
   "metadata": {},
   "outputs": [],
   "source": [
    "cnx = mysql.connector.connect(**config)\n",
    "cursor = cnx.cursor()\n",
    "\n",
    "cluster_id = 4\n",
    "\n",
    "sql = ('SELECT CLUSTERRING_WORDS.WORD, CLUSTERRING_CLUSTERKEYWORDS.TFIDF '\n",
    "       'FROM CLUSTERRING_CLUSTERKEYWORDS INNER JOIN CLUSTERRING_WORDS '\n",
    "       'WHERE CLUSTERRING_CLUSTERKEYWORDS.WORD_ID = CLUSTERRING_WORDS.WORD_ID '\n",
    "       'AND CLUSTERRING_WORDS.BOT_ID = %s AND CLUSTERRING_CLUSTERKEYWORDS.BOT_ID = CLUSTERRING_WORDS.BOT_ID '\n",
    "       'AND CLUSTER_ID = %s '\n",
    "       'ORDER BY CLUSTERRING_CLUSTERKEYWORDS.TFIDF DESC')\n",
    "data = (bot_id, cluster_id)\n",
    "cursor.execute(sql, data)\n",
    "\n",
    "words = []\n",
    "values = []\n",
    "for word_id, value in cursor:\n",
    "    words.append(word_id)\n",
    "    values.append(float(value))\n",
    "\n",
    "num = 22\n",
    "print('cluster #%d:' % cluster_id, ' '.join(words[:num]), end='\\n\\n')\n",
    "plt.bar(range(num), values[:num])\n",
    "plt.show()\n",
    "\n",
    "\n",
    "sql = ('SELECT CLUSTERRING_CONVS.CONV_ID, SPEAKER_ID, UTTERANCE '\n",
    "       'FROM CLUSTERRING_CONVS INNER JOIN CLUSTERRING_UTTERANCES '\n",
    "       'WHERE CLUSTERRING_CONVS.BOT_ID = %s AND CLUSTERRING_UTTERANCES.BOT_ID = CLUSTERRING_CONVS.BOT_ID '\n",
    "       'AND CLUSTERRING_CONVS.CONV_ID = CLUSTERRING_UTTERANCES.CONV_ID '\n",
    "       'AND CLUSTER_ID = %s')\n",
    "data = (bot_id, cluster_id)\n",
    "cursor.execute(sql, data)\n",
    "\n",
    "last_conv_id = None\n",
    "conv = ''\n",
    "count = 0\n",
    "for conv_id, speaker_id, utterance in cursor:\n",
    "    if conv_id == last_conv_id:\n",
    "        conv += str(speaker_id) + ' ' + utterance + '\\n'\n",
    "    else:\n",
    "        print(conv)\n",
    "        last_conv_id = conv_id\n",
    "        conv = ''\n",
    "        count += 1\n",
    "        if count >= 5:\n",
    "            break\n",
    "\n",
    "cursor.fetchall()\n",
    "cursor.close()\n",
    "cnx.close()"
   ]
  }
 ],
 "metadata": {
  "kernelspec": {
   "display_name": "Python 3",
   "language": "python",
   "name": "python3"
  },
  "language_info": {
   "codemirror_mode": {
    "name": "ipython",
    "version": 3
   },
   "file_extension": ".py",
   "mimetype": "text/x-python",
   "name": "python",
   "nbconvert_exporter": "python",
   "pygments_lexer": "ipython3",
   "version": "3.6.5"
  }
 },
 "nbformat": 4,
 "nbformat_minor": 2
}
