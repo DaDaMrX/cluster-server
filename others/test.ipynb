{
 "cells": [
  {
   "cell_type": "code",
   "execution_count": 74,
   "metadata": {},
   "outputs": [
    {
     "name": "stdout",
     "output_type": "stream",
     "text": [
      "<mysql.connector.connection_cext.CMySQLConnection object at 0x1a25946668>\n"
     ]
    }
   ],
   "source": [
    "import mysql.connector\n",
    "\n",
    "config = {\n",
    "    'host': '127.0.0.1',\n",
    "    'user': 'root',\n",
    "    'password': 'xuhengda',\n",
    "    'database': 'BOOSTDB',\n",
    "}\n",
    "cnx = mysql.connector.connect(**config)\n",
    "print(cnx)"
   ]
  },
  {
   "cell_type": "markdown",
   "metadata": {},
   "source": [
    "# [前端] 注册BOT_ID\n",
    "* 写BOTS表"
   ]
  },
  {
   "cell_type": "code",
   "execution_count": 15,
   "metadata": {},
   "outputs": [
    {
     "data": {
      "text/plain": [
       "True"
      ]
     },
     "execution_count": 15,
     "metadata": {},
     "output_type": "execute_result"
    }
   ],
   "source": [
    "bot_id = '0'\n",
    "cursor = cnx.cursor()\n",
    "sql = 'INSERT INTO BOTS (BOT_ID) VALUES (%s)'\n",
    "data = (bot_id,)\n",
    "cursor.execute(sql, data)\n",
    "cnx.commit()\n",
    "cursor.close()"
   ]
  },
  {
   "cell_type": "markdown",
   "metadata": {},
   "source": [
    "# [前端] 把csv文件存入数据库\n",
    "* 写UTTERANCES表\n",
    "* 用时较长（待优化）\n",
    "* INSERT次数太多"
   ]
  },
  {
   "cell_type": "code",
   "execution_count": 18,
   "metadata": {},
   "outputs": [
    {
     "data": {
      "text/plain": [
       "True"
      ]
     },
     "execution_count": 18,
     "metadata": {},
     "output_type": "execute_result"
    }
   ],
   "source": [
    "import csv\n",
    "\n",
    "cursor = cnx.cursor()\n",
    "csv_file = 'chat.csv'\n",
    "with open(csv_file, encoding='utf-8') as f:\n",
    "    reader = csv.reader(f, delimiter=',')\n",
    "    sql = ('INSERT INTO UTTERANCES (BOT_ID, CONV_ID, SPEAKER_ID, UTTERANCE) '\n",
    "           'VALUES (%s, %s, %s, %s)')\n",
    "    for conv_id, speaker_id, utterance in reader:\n",
    "        data = [bot_id, int(conv_id), int(speaker_id), utterance]\n",
    "        cursor.execute(sql, data)\n",
    "cnx.commit()\n",
    "cursor.close()"
   ]
  },
  {
   "cell_type": "markdown",
   "metadata": {},
   "source": [
    "# [后端] 读数据\n",
    "* 读UTTERANCES表\n",
    "* 写CONVS表"
   ]
  },
  {
   "cell_type": "code",
   "execution_count": 49,
   "metadata": {},
   "outputs": [
    {
     "name": "stdout",
     "output_type": "stream",
     "text": [
      "10942 conversations\n",
      "\n",
      "请您稍等一下，正在为您核实处理中哦~ 有什么问题我可以帮您处理或解决呢? 宠物天然粮[姓名x]犬成犬狗粮[数字x]kg 对的。 这款商品库房还没有到货’ 什么时候能到货啊? 可以给您操作有货的先发 零食那个有货呗? 狗粮一袋都没有么? 有的话都给我先发吧。 ? 稍等哈 恩 查询以操作了有货先发 您的订单现在是两个订单 建议您关注一下订单的物流信息哈 狗粮啥时候能有货? 预计一周左右 好吧，希望快点发货 好的亲 请问还有其他还可以帮到您的吗?\n"
     ]
    },
    {
     "data": {
      "text/plain": [
       "True"
      ]
     },
     "execution_count": 49,
     "metadata": {},
     "output_type": "execute_result"
    }
   ],
   "source": [
    "cursor = cnx.cursor()\n",
    "\n",
    "sql = 'SELECT CONV_ID, UTTERANCE FROM UTTERANCES WHERE BOT_ID = %s'\n",
    "data = (bot_id,)\n",
    "cursor.execute(sql, data)\n",
    "\n",
    "corpus = []\n",
    "conv = ''\n",
    "last_conv_id = None\n",
    "for conv_id, utterance in cursor:\n",
    "    if conv_id != last_conv_id:\n",
    "        corpus.append(conv[:len(conv) - 1])\n",
    "        conv = ''\n",
    "        last_conv_id = conv_id\n",
    "    else:\n",
    "        conv += utterance + ' '\n",
    "corpus.append(conv[:len(conv) - 1])\n",
    "corpus = corpus[1:]\n",
    "cursor.close()\n",
    "\n",
    "print(len(corpus), 'conversations', end='\\n\\n')\n",
    "print(corpus[0])\n",
    "\n",
    "cursor = cnx.cursor()\n",
    "sql = 'SELECT DISTINCT CONV_ID FROM UTTERANCES WHERE BOT_ID = %s'\n",
    "data = (bot_id,)\n",
    "cursor.execute(sql, data)\n",
    "conv_ids = list(map(lambda t: int(t[0]), cursor))\n",
    "\n",
    "sql = 'INSERT INTO CONVS (CONV_ID, BOT_ID) VALUES '\n",
    "sql_value = '(%s, %s), ' * len(conv_ids)\n",
    "sql += sql_value[:-2]\n",
    "data = []\n",
    "for conv_id in conv_ids:\n",
    "    data.append(conv_id)\n",
    "    data.append(bot_id)\n",
    "cursor.execute(sql, data)\n",
    "cnx.commit()\n",
    "cursor.close()"
   ]
  },
  {
   "cell_type": "markdown",
   "metadata": {},
   "source": [
    "# [后端] 数据清洗"
   ]
  },
  {
   "cell_type": "code",
   "execution_count": 51,
   "metadata": {},
   "outputs": [
    {
     "name": "stderr",
     "output_type": "stream",
     "text": [
      "<module>:数据清洗开始...\n",
      "<module>:正则表达式替换完成.\n",
      "<module>:分词完成.\n",
      "<module>:删除停用词开始...\n",
      "<module>:删除停用词完成 (用时: 18.37s).\n",
      "<module>:数据清洗完成.\n"
     ]
    }
   ],
   "source": [
    "import jieba\n",
    "import logging\n",
    "import re\n",
    "import time\n",
    "\n",
    "jieba.setLogLevel(logging.INFO)\n",
    "logging.basicConfig(format='%(funcName)s:%(message)s', level=logging.DEBUG)\n",
    "\n",
    "stop_wrods_file = 'stop_words.txt'\n",
    "\n",
    "def _substitute(sent):\n",
    "    exps = [\n",
    "        r'#E-\\w\\[数字x\\]|~O\\(∩_∩\\)O/~',\n",
    "        r'http[s]?://[a-zA-Z0-9|\\.|/]+',\n",
    "        r'http[s]?://[a-zA-Z0-9\\./-]*\\[链接x\\]',\n",
    "        r'\\[ORDERID_[0-9]+\\]',\n",
    "        r'\\[日期x\\]',\n",
    "        r'\\[时间x\\]',\n",
    "        r'\\[金额x\\]',\n",
    "        r'\\[站点x\\]',\n",
    "        r'\\[数字x\\]',\n",
    "        r'\\[地址x\\]',\n",
    "        r'\\[姓名x\\]',\n",
    "        r'\\[邮箱x\\]',\n",
    "        r'\\[电话x\\]',\n",
    "        r'\\[商品快照\\]',\n",
    "        r'<s>',\n",
    "        r'\\s+',\n",
    "        r'[a-z|0-9]+'\n",
    "        \"[\\s+\\.\\!\\/_,$%^:*(+\\\"\\')]+\",\n",
    "        \"[+——()?:【】‘’“”`！，。？、~@#￥%……&*（）]+\"\n",
    "    ]\n",
    "    for exp in exps:\n",
    "        sent = re.sub(exp, ' ', sent)\n",
    "    return sent\n",
    "\n",
    "\n",
    "logging.info('数据清洗开始...')\n",
    "\n",
    "# 正则表达式替换特定字符串\n",
    "corpus = list(map(_substitute, corpus))\n",
    "logging.info('正则表达式替换完成.')\n",
    "\n",
    "# 分词\n",
    "t = time.time()\n",
    "corpus = list(map(jieba.cut, corpus))\n",
    "logging.info('分词完成.')\n",
    "\n",
    "# 删除停用词\n",
    "logging.info('删除停用词开始...')\n",
    "with open(stop_wrods_file, encoding='utf-8') as f:\n",
    "    stop_words = f.read().strip().split('\\n')\n",
    "\n",
    "t = time.time()\n",
    "for i in range(len(corpus)):\n",
    "    tokens = []\n",
    "    for token in corpus[i]:\n",
    "        token = token.strip()\n",
    "        if len(token) > 1 and token not in stop_words:\n",
    "            tokens.append(token)\n",
    "    corpus[i] = tokens\n",
    "logging.info('删除停用词完成 (用时: %.2fs).' % (time.time() - t))\n",
    "\n",
    "# 组合\n",
    "corpus = list(map(lambda x: ' '.join(x), corpus))\n",
    "\n",
    "logging.info('数据清洗完成.')"
   ]
  },
  {
   "cell_type": "markdown",
   "metadata": {},
   "source": [
    "# [后端] TFIDF\n",
    "* 写WORDS表"
   ]
  },
  {
   "cell_type": "code",
   "execution_count": 56,
   "metadata": {},
   "outputs": [
    {
     "data": {
      "text/plain": [
       "True"
      ]
     },
     "execution_count": 56,
     "metadata": {},
     "output_type": "execute_result"
    }
   ],
   "source": [
    "from sklearn.feature_extraction.text import TfidfVectorizer\n",
    "import numpy as np\n",
    "\n",
    "max_df = 0.1\n",
    "min_df = 20\n",
    "max_features = 1000\n",
    "\n",
    "tfidf_vectorizer = TfidfVectorizer(max_df=max_df,\n",
    "                                   min_df=min_df,\n",
    "                                   max_features=max_features)\n",
    "tfidf = tfidf_vectorizer.fit_transform(corpus)\n",
    "\n",
    "# 获取每个词的df值\n",
    "idf = tfidf_vectorizer.idf_\n",
    "df = list(map(lambda x: (len(corpus) + 1) / np.exp(x - 1) - 1, idf))\n",
    "df = list(map(lambda x: x / len(corpus), df))\n",
    "\n",
    "words = tfidf_vectorizer.get_feature_names()\n",
    "\n",
    "cursor = cnx.cursor()\n",
    "sql = 'INSERT INTO WORDS (WORD_ID, BOT_ID, WORD, DF) VALUES '\n",
    "sql_values = '(%s, %s, %s, %s), ' * len(words)\n",
    "sql += sql_values[:-2]\n",
    "data = []\n",
    "for (word_id, (word, df)) in enumerate(zip(words, df)):\n",
    "    data.extend([word_id, bot_id, word, df])\n",
    "cursor.execute(sql, data)\n",
    "cnx.commit()\n",
    "cursor.close()"
   ]
  },
  {
   "cell_type": "markdown",
   "metadata": {},
   "source": [
    "# [前端] 读DF\n",
    "* 读WORDS表"
   ]
  },
  {
   "cell_type": "code",
   "execution_count": 58,
   "metadata": {},
   "outputs": [
    {
     "name": "stderr",
     "output_type": "stream",
     "text": [
      "wrapper:CACHEDIR=/Users/dada/.matplotlib\n",
      "<module>:Using fontManager instance from /Users/dada/.matplotlib/fontList.json\n",
      "pylab_setup:backend module://ipykernel.pylab.backend_inline version unknown\n",
      "pylab_setup:backend module://ipykernel.pylab.backend_inline version unknown\n"
     ]
    },
    {
     "name": "stdout",
     "output_type": "stream",
     "text": [
      "total words: 1000\n",
      "文件频率df-词数\n"
     ]
    },
    {
     "name": "stderr",
     "output_type": "stream",
     "text": [
      "findfont:findfont: Matching :family=sans-serif:style=normal:variant=normal:weight=normal:stretch=normal:size=10.0 to DejaVu Sans ('/Users/dada/anaconda3/lib/python3.6/site-packages/matplotlib/mpl-data/fonts/ttf/DejaVuSans.ttf') with score of 0.050000\n"
     ]
    },
    {
     "data": {
      "image/png": "[encoded data removed]",
      "text/plain": [
       "<Figure size 432x288 with 1 Axes>"
      ]
     },
     "metadata": {},
     "output_type": "display_data"
    },
    {
     "name": "stdout",
     "output_type": "stream",
     "text": [
      "每个词的文件频率df\n"
     ]
    },
    {
     "data": {
      "image/png": "[encoded data removed]",
      "text/plain": [
       "<Figure size 432x288 with 1 Axes>"
      ]
     },
     "metadata": {},
     "output_type": "display_data"
    },
    {
     "name": "stderr",
     "output_type": "stream",
     "text": [
      "pylab_setup:backend module://ipykernel.pylab.backend_inline version unknown\n"
     ]
    }
   ],
   "source": [
    "import matplotlib.pyplot as plt\n",
    "%matplotlib inline\n",
    "\n",
    "cursor = cnx.cursor()\n",
    "sql = 'SELECT DF FROM WORDS WHERE BOT_ID = %s ORDER BY DF ASC'\n",
    "data = (bot_id,)\n",
    "cursor.execute(sql, data)\n",
    "df = list(map(lambda t: float(t[0]), cursor))\n",
    "cursor.close()\n",
    "\n",
    "print('total words:', len(df))\n",
    "\n",
    "print('文件频率df-词数')\n",
    "plt.hist(df, 200)\n",
    "plt.show()\n",
    "\n",
    "print('每个词的文件频率df')\n",
    "df.sort()\n",
    "plt.bar(np.arange(len(df)), df)\n",
    "plt.show()"
   ]
  },
  {
   "cell_type": "markdown",
   "metadata": {},
   "source": [
    "# [后端] 聚类"
   ]
  },
  {
   "cell_type": "code",
   "execution_count": 59,
   "metadata": {
    "collapsed": true
   },
   "outputs": [
    {
     "name": "stdout",
     "output_type": "stream",
     "text": [
      "Initialization complete\n",
      "Iteration  0, inertia 10513.378\n",
      "Iteration  1, inertia 9614.311\n",
      "Iteration  2, inertia 9303.038\n",
      "Iteration  3, inertia 9157.904\n",
      "Iteration  4, inertia 9094.439\n",
      "Iteration  5, inertia 9054.545\n",
      "Iteration  6, inertia 9023.396\n",
      "Iteration  7, inertia 9004.487\n",
      "Iteration  8, inertia 8995.578\n",
      "Iteration  9, inertia 8990.030\n",
      "Iteration 10, inertia 8984.716\n",
      "Iteration 11, inertia 8981.349\n",
      "Iteration 12, inertia 8979.138\n",
      "Iteration 13, inertia 8977.539\n",
      "Iteration 14, inertia 8976.174\n",
      "Iteration 15, inertia 8974.211\n",
      "Iteration 16, inertia 8971.560\n",
      "Iteration 17, inertia 8969.079\n",
      "Iteration 18, inertia 8967.815\n",
      "Iteration 19, inertia 8967.393\n",
      "Iteration 20, inertia 8967.214\n",
      "Iteration 21, inertia 8967.144\n",
      "Iteration 22, inertia 8967.099\n",
      "Iteration 23, inertia 8967.043\n",
      "Iteration 24, inertia 8966.970\n",
      "Iteration 25, inertia 8966.721\n",
      "Iteration 26, inertia 8966.581\n",
      "Iteration 27, inertia 8966.564\n",
      "Iteration 28, inertia 8966.529\n",
      "Iteration 29, inertia 8966.498\n",
      "Iteration 30, inertia 8966.477\n",
      "Iteration 31, inertia 8966.459\n",
      "Iteration 32, inertia 8966.455\n",
      "Converged at iteration 32: center shift 0.000000e+00 within tolerance 9.735164e-08\n",
      "Initialization complete\n",
      "Iteration  0, inertia 15559.279\n",
      "Iteration  1, inertia 9202.994\n",
      "Iteration  2, inertia 8971.810\n",
      "Iteration  3, inertia 8877.067\n",
      "Iteration  4, inertia 8836.685\n",
      "Iteration  5, inertia 8813.393\n",
      "Iteration  6, inertia 8796.116\n",
      "Iteration  7, inertia 8784.876\n",
      "Iteration  8, inertia 8777.271\n",
      "Iteration  9, inertia 8768.572\n",
      "Iteration 10, inertia 8761.438\n",
      "Iteration 11, inertia 8759.913\n",
      "Iteration 12, inertia 8759.203\n",
      "Iteration 13, inertia 8758.637\n",
      "Iteration 14, inertia 8758.034\n",
      "Iteration 15, inertia 8757.577\n",
      "Iteration 16, inertia 8757.297\n",
      "Iteration 17, inertia 8757.102\n",
      "Iteration 18, inertia 8756.946\n",
      "Iteration 19, inertia 8756.738\n",
      "Iteration 20, inertia 8756.435\n",
      "Iteration 21, inertia 8756.010\n",
      "Iteration 22, inertia 8755.419\n",
      "Iteration 23, inertia 8754.899\n",
      "Iteration 24, inertia 8753.990\n",
      "Iteration 25, inertia 8753.376\n",
      "Iteration 26, inertia 8753.107\n",
      "Iteration 27, inertia 8752.956\n",
      "Iteration 28, inertia 8752.703\n",
      "Iteration 29, inertia 8752.245\n",
      "Iteration 30, inertia 8751.768\n",
      "Iteration 31, inertia 8751.629\n",
      "Iteration 32, inertia 8751.621\n",
      "Converged at iteration 32: center shift 0.000000e+00 within tolerance 9.735164e-08\n",
      "Initialization complete\n",
      "Iteration  0, inertia 15364.718\n",
      "Iteration  1, inertia 9144.896\n",
      "Iteration  2, inertia 8950.445\n",
      "Iteration  3, inertia 8872.233\n",
      "Iteration  4, inertia 8830.875\n",
      "Iteration  5, inertia 8815.329\n",
      "Iteration  6, inertia 8808.323\n",
      "Iteration  7, inertia 8804.670\n",
      "Iteration  8, inertia 8802.235\n",
      "Iteration  9, inertia 8799.550\n",
      "Iteration 10, inertia 8797.488\n",
      "Iteration 11, inertia 8795.046\n",
      "Iteration 12, inertia 8791.317\n",
      "Iteration 13, inertia 8789.223\n",
      "Iteration 14, inertia 8787.835\n",
      "Iteration 15, inertia 8787.395\n",
      "Iteration 16, inertia 8787.177\n",
      "Iteration 17, inertia 8786.947\n",
      "Iteration 18, inertia 8786.560\n",
      "Iteration 19, inertia 8785.681\n",
      "Iteration 20, inertia 8785.421\n",
      "Iteration 21, inertia 8785.335\n",
      "Iteration 22, inertia 8785.284\n",
      "Iteration 23, inertia 8785.266\n",
      "Iteration 24, inertia 8785.252\n",
      "Iteration 25, inertia 8785.244\n",
      "Iteration 26, inertia 8785.238\n",
      "Converged at iteration 26: center shift 0.000000e+00 within tolerance 9.735164e-08\n",
      "Initialization complete\n",
      "Iteration  0, inertia 10555.369\n",
      "Iteration  1, inertia 9573.535\n",
      "Iteration  2, inertia 9233.141\n",
      "Iteration  3, inertia 9083.096\n",
      "Iteration  4, inertia 9030.260\n",
      "Iteration  5, inertia 9010.559\n",
      "Iteration  6, inertia 9000.435\n",
      "Iteration  7, inertia 8992.212\n",
      "Iteration  8, inertia 8981.854\n",
      "Iteration  9, inertia 8968.673\n",
      "Iteration 10, inertia 8961.062\n",
      "Iteration 11, inertia 8957.193\n",
      "Iteration 12, inertia 8955.021\n",
      "Iteration 13, inertia 8953.158\n",
      "Iteration 14, inertia 8952.095\n",
      "Iteration 15, inertia 8951.277\n",
      "Iteration 16, inertia 8950.623\n",
      "Iteration 17, inertia 8950.390\n",
      "Iteration 18, inertia 8950.252\n",
      "Iteration 19, inertia 8950.130\n",
      "Iteration 20, inertia 8950.083\n",
      "Iteration 21, inertia 8950.057\n",
      "Iteration 22, inertia 8950.025\n",
      "Iteration 23, inertia 8949.998\n",
      "Iteration 24, inertia 8949.995\n",
      "Converged at iteration 24: center shift 0.000000e+00 within tolerance 9.735164e-08\n",
      "Initialization complete\n",
      "Iteration  0, inertia 10631.154\n",
      "Iteration  1, inertia 9677.779\n",
      "Iteration  2, inertia 9282.272\n",
      "Iteration  3, inertia 9139.445\n",
      "Iteration  4, inertia 9079.786\n",
      "Iteration  5, inertia 9054.392\n",
      "Iteration  6, inertia 9037.708\n",
      "Iteration  7, inertia 9023.684\n",
      "Iteration  8, inertia 9011.102\n",
      "Iteration  9, inertia 9002.562\n",
      "Iteration 10, inertia 8995.869\n",
      "Iteration 11, inertia 8985.824\n",
      "Iteration 12, inertia 8975.170\n",
      "Iteration 13, inertia 8970.956\n",
      "Iteration 14, inertia 8969.107\n",
      "Iteration 15, inertia 8967.704\n",
      "Iteration 16, inertia 8966.265\n",
      "Iteration 17, inertia 8964.532\n",
      "Iteration 18, inertia 8962.615\n",
      "Iteration 19, inertia 8961.371\n",
      "Iteration 20, inertia 8960.900\n",
      "Iteration 21, inertia 8960.707\n",
      "Iteration 22, inertia 8960.574\n",
      "Iteration 23, inertia 8960.558\n",
      "Converged at iteration 23: center shift 0.000000e+00 within tolerance 9.735164e-08\n",
      "Initialization complete\n",
      "Iteration  0, inertia 10432.972\n",
      "Iteration  1, inertia 9483.292\n",
      "Iteration  2, inertia 9224.741\n",
      "Iteration  3, inertia 9117.674\n",
      "Iteration  4, inertia 9070.192\n",
      "Iteration  5, inertia 9045.157\n",
      "Iteration  6, inertia 9029.827\n",
      "Iteration  7, inertia 9017.937\n",
      "Iteration  8, inertia 9005.627\n",
      "Iteration  9, inertia 8995.362\n",
      "Iteration 10, inertia 8988.796\n",
      "Iteration 11, inertia 8980.470\n",
      "Iteration 12, inertia 8976.712\n",
      "Iteration 13, inertia 8973.909\n",
      "Iteration 14, inertia 8970.805\n",
      "Iteration 15, inertia 8969.121\n",
      "Iteration 16, inertia 8968.061\n",
      "Iteration 17, inertia 8967.415\n",
      "Iteration 18, inertia 8967.052\n",
      "Iteration 19, inertia 8966.813\n",
      "Iteration 20, inertia 8966.399\n",
      "Iteration 21, inertia 8965.820\n",
      "Iteration 22, inertia 8965.351\n",
      "Iteration 23, inertia 8964.794\n",
      "Iteration 24, inertia 8963.769\n",
      "Iteration 25, inertia 8962.440\n",
      "Iteration 26, inertia 8961.122\n",
      "Iteration 27, inertia 8960.158\n",
      "Iteration 28, inertia 8959.756\n",
      "Iteration 29, inertia 8959.584\n",
      "Iteration 30, inertia 8959.496\n",
      "Iteration 31, inertia 8959.430\n",
      "Iteration 32, inertia 8959.391\n",
      "Iteration 33, inertia 8959.384\n",
      "Iteration 34, inertia 8959.379\n",
      "Iteration 35, inertia 8959.376\n",
      "Iteration 36, inertia 8959.373\n",
      "Iteration 37, inertia 8959.369\n",
      "Iteration 38, inertia 8959.355\n",
      "Iteration 39, inertia 8959.353\n",
      "Converged at iteration 39: center shift 0.000000e+00 within tolerance 9.735164e-08\n",
      "Initialization complete\n",
      "Iteration  0, inertia 15414.273\n",
      "Iteration  1, inertia 9134.229\n",
      "Iteration  2, inertia 8942.734\n",
      "Iteration  3, inertia 8862.638\n",
      "Iteration  4, inertia 8828.328\n",
      "Iteration  5, inertia 8810.892\n",
      "Iteration  6, inertia 8801.920\n",
      "Iteration  7, inertia 8794.133\n",
      "Iteration  8, inertia 8784.205\n",
      "Iteration  9, inertia 8777.002\n",
      "Iteration 10, inertia 8769.558\n",
      "Iteration 11, inertia 8766.203\n",
      "Iteration 12, inertia 8764.403\n",
      "Iteration 13, inertia 8763.511\n",
      "Iteration 14, inertia 8762.703\n",
      "Iteration 15, inertia 8762.031\n",
      "Iteration 16, inertia 8761.485\n",
      "Iteration 17, inertia 8761.235\n",
      "Iteration 18, inertia 8761.000\n",
      "Iteration 19, inertia 8760.647\n",
      "Iteration 20, inertia 8760.319\n",
      "Iteration 21, inertia 8760.042\n",
      "Iteration 22, inertia 8759.934\n",
      "Iteration 23, inertia 8759.708\n",
      "Iteration 24, inertia 8759.152\n",
      "Iteration 25, inertia 8758.505\n",
      "Iteration 26, inertia 8758.287\n",
      "Iteration 27, inertia 8758.206\n",
      "Iteration 28, inertia 8758.170\n",
      "Iteration 29, inertia 8758.146\n",
      "Iteration 30, inertia 8758.133\n",
      "Converged at iteration 30: center shift 0.000000e+00 within tolerance 9.735164e-08\n",
      "Initialization complete\n",
      "Iteration  0, inertia 15239.621\n",
      "Iteration  1, inertia 9104.148\n",
      "Iteration  2, inertia 8926.264\n",
      "Iteration  3, inertia 8849.045\n",
      "Iteration  4, inertia 8816.382\n",
      "Iteration  5, inertia 8802.105\n",
      "Iteration  6, inertia 8793.927\n",
      "Iteration  7, inertia 8788.449\n",
      "Iteration  8, inertia 8782.241\n",
      "Iteration  9, inertia 8775.500\n",
      "Iteration 10, inertia 8770.371\n",
      "Iteration 11, inertia 8767.555\n",
      "Iteration 12, inertia 8765.493\n",
      "Iteration 13, inertia 8763.876\n",
      "Iteration 14, inertia 8761.827\n",
      "Iteration 15, inertia 8760.062\n",
      "Iteration 16, inertia 8756.718\n",
      "Iteration 17, inertia 8754.366\n",
      "Iteration 18, inertia 8750.423\n",
      "Iteration 19, inertia 8746.473\n",
      "Iteration 20, inertia 8743.477\n",
      "Iteration 21, inertia 8740.783\n",
      "Iteration 22, inertia 8738.966\n",
      "Iteration 23, inertia 8738.547\n",
      "Iteration 24, inertia 8738.328\n",
      "Iteration 25, inertia 8738.185\n",
      "Iteration 26, inertia 8738.053\n",
      "Iteration 27, inertia 8737.901\n"
     ]
    },
    {
     "name": "stdout",
     "output_type": "stream",
     "text": [
      "Iteration 28, inertia 8737.777\n",
      "Iteration 29, inertia 8737.690\n",
      "Iteration 30, inertia 8737.564\n",
      "Iteration 31, inertia 8737.406\n",
      "Iteration 32, inertia 8737.261\n",
      "Iteration 33, inertia 8737.142\n",
      "Iteration 34, inertia 8736.909\n",
      "Iteration 35, inertia 8736.557\n",
      "Iteration 36, inertia 8736.282\n",
      "Iteration 37, inertia 8736.041\n",
      "Iteration 38, inertia 8735.720\n",
      "Iteration 39, inertia 8735.174\n",
      "Iteration 40, inertia 8734.690\n",
      "Iteration 41, inertia 8734.584\n",
      "Iteration 42, inertia 8734.544\n",
      "Converged at iteration 42: center shift 0.000000e+00 within tolerance 9.735164e-08\n"
     ]
    }
   ],
   "source": [
    "from sklearn.cluster import KMeans\n",
    "\n",
    "n_clusters = 50\n",
    "max_iter=100\n",
    "\n",
    "kmeans = KMeans(n_clusters=n_clusters,\n",
    "                    max_iter=max_iter,\n",
    "                    n_init=8,\n",
    "                    init='k-means++',\n",
    "                    n_jobs=-1,\n",
    "                    random_state=0,\n",
    "                    verbose=1)\n",
    "labels = kmeans.fit_predict(tfidf)"
   ]
  },
  {
   "cell_type": "markdown",
   "metadata": {},
   "source": [
    "# [后端]  计算CH指数\n",
    "* 写BOTS表"
   ]
  },
  {
   "cell_type": "code",
   "execution_count": 62,
   "metadata": {},
   "outputs": [
    {
     "name": "stdout",
     "output_type": "stream",
     "text": [
      "CH: 48.803\n"
     ]
    },
    {
     "data": {
      "text/plain": [
       "True"
      ]
     },
     "execution_count": 62,
     "metadata": {},
     "output_type": "execute_result"
    }
   ],
   "source": [
    "from sklearn import metrics\n",
    "\n",
    "ch = metrics.calinski_harabaz_score(tfidf.toarray(), labels)\n",
    "print('CH: %.3f' % ch)\n",
    "\n",
    "cursor = cnx.cursor()\n",
    "sql = 'UPDATE BOTS SET CH = %s WHERE BOT_ID = %s'\n",
    "data = (ch, bot_id)\n",
    "cursor.execute(sql, data)\n",
    "cnx.commit()\n",
    "cursor.close()"
   ]
  },
  {
   "cell_type": "markdown",
   "metadata": {},
   "source": [
    "# [前端] 查询CH指数\n",
    "* 读BOTS表"
   ]
  },
  {
   "cell_type": "code",
   "execution_count": 63,
   "metadata": {},
   "outputs": [
    {
     "name": "stdout",
     "output_type": "stream",
     "text": [
      "CH: 48.803\n"
     ]
    }
   ],
   "source": [
    "cursor = cnx.cursor()\n",
    "sql = 'SELECT CH FROM BOTS WHERE BOT_ID = %s'\n",
    "data = (bot_id,)\n",
    "cursor.execute(sql, data)\n",
    "ch = float(cursor.fetchone()[0]) \n",
    "cursor.close()\n",
    "\n",
    "print('CH: %.3f' % ch)"
   ]
  },
  {
   "cell_type": "markdown",
   "metadata": {},
   "source": [
    "# [后端] 记录每段对话写类别标签\n",
    "* 写CONVS表\n",
    "* 多次UPDATE（待优化）"
   ]
  },
  {
   "cell_type": "code",
   "execution_count": 64,
   "metadata": {},
   "outputs": [
    {
     "data": {
      "text/plain": [
       "True"
      ]
     },
     "execution_count": 64,
     "metadata": {},
     "output_type": "execute_result"
    }
   ],
   "source": [
    "cursor = cnx.cursor()\n",
    "sql = 'UPDATE CONVS SET CLUSTER_ID = %s WHERE BOT_ID = %s AND CONV_ID = %s'\n",
    "for conv_id, cluster_id in enumerate(labels):\n",
    "    data = (int(cluster_id), bot_id, conv_id)\n",
    "    cursor.execute(sql, data)\n",
    "cnx.commit()\n",
    "cursor.close()"
   ]
  },
  {
   "cell_type": "markdown",
   "metadata": {},
   "source": [
    "# [后端] 记录每个簇的对话数量\n",
    "* 写CLUSTERS表"
   ]
  },
  {
   "cell_type": "code",
   "execution_count": 76,
   "metadata": {},
   "outputs": [
    {
     "data": {
      "text/plain": [
       "True"
      ]
     },
     "execution_count": 76,
     "metadata": {},
     "output_type": "execute_result"
    }
   ],
   "source": [
    "counts = [(labels == idx).sum() for idx in range(n_clusters)]\n",
    "cursor = cnx.cursor()\n",
    "sql = 'INSERT INTO CLUSTERS (CLUSTER_ID, BOT_ID, VOLUME) VALUES'\n",
    "sql_values = ' (%s, %s, %s),' * n_clusters\n",
    "sql += sql_values[:-1]\n",
    "data = []\n",
    "for cluster_id, volume in enumerate(counts):\n",
    "    data.extend([cluster_id, bot_id, int(volume)])\n",
    "cursor.execute(sql, data)\n",
    "cnx.commit()\n",
    "cursor.close()"
   ]
  },
  {
   "cell_type": "markdown",
   "metadata": {},
   "source": [
    "# [前端] 查询每个簇中对话的数量\n",
    "* 读CLUSTERS表"
   ]
  },
  {
   "cell_type": "code",
   "execution_count": 77,
   "metadata": {},
   "outputs": [
    {
     "data": {
      "image/png": "[encoded data removed]",
      "text/plain": [
       "<Figure size 576x432 with 1 Axes>"
      ]
     },
     "metadata": {},
     "output_type": "display_data"
    }
   ],
   "source": [
    "cursor = cnx.cursor()\n",
    "sql = 'SELECT VOLUME FROM CLUSTERS WHERE BOT_ID = %s'\n",
    "data = (bot_id,)\n",
    "cursor.execute(sql, data)\n",
    "volumes = [vol for (vol,) in cursor]\n",
    "cursor.close()\n",
    "\n",
    "plt.figure(figsize=(8, 6))\n",
    "plt.bar(range(n_clusters), volumes)\n",
    "plt.show()"
   ]
  },
  {
   "cell_type": "markdown",
   "metadata": {},
   "source": [
    "# [后端] 计算每个簇的关键词\n",
    "* 写CLUSTER_KEYWORDS表"
   ]
  },
  {
   "cell_type": "code",
   "execution_count": 84,
   "metadata": {},
   "outputs": [
    {
     "data": {
      "text/plain": [
       "True"
      ]
     },
     "execution_count": 84,
     "metadata": {},
     "output_type": "execute_result"
    }
   ],
   "source": [
    "cursor = cnx.cursor()\n",
    "\n",
    "td = list(map(lambda x: x.toarray().squeeze(), tfidf))\n",
    "    \n",
    "vectorss = [[] for _ in range(n_clusters)]\n",
    "for i in range(len(corpus)):\n",
    "    vectorss[labels[i]].append(td[i])\n",
    "    \n",
    "terms = tfidf_vectorizer.get_feature_names()\n",
    "    \n",
    "for cluster_id, vectors in enumerate(vectorss):\n",
    "    vectors = np.array(vectors)\n",
    "    vectors = vectors.sum(0)\n",
    "    num = (vectors != 0.0).sum()\n",
    "    word_ids = vectors.argsort()[:-1-num:-1]\n",
    "    \n",
    "    sql = 'INSERT INTO CLUSTER_KEYWORDS (BOT_ID, CLUSTER_ID, WORD_ID, TFIDF) VALUES'\n",
    "    sql_values = ' (%s, %s, %s, %s),' * len(word_ids)\n",
    "    sql += sql_values[:-1]\n",
    "    data = []\n",
    "    for word_id in word_ids:\n",
    "        data.extend((bot_id, cluster_id, int(word_id), float(vectors[word_id])))\n",
    "    cursor.execute(sql, data)\n",
    "cnx.commit()\n",
    "cursor.close()"
   ]
  },
  {
   "cell_type": "markdown",
   "metadata": {},
   "source": [
    "# [前端] 展示每个簇的关键词\n",
    "* 联合查询CLUSTER_KEYWORDS和WORDS"
   ]
  },
  {
   "cell_type": "code",
   "execution_count": 85,
   "metadata": {
    "scrolled": false
   },
   "outputs": [
    {
     "name": "stdout",
     "output_type": "stream",
     "text": [
      "cluster #0: 实在 久等 耽误 谅解 放心 为止 直到 跟进 真的 灰常 签收 这么久 不便 通知 造成 催促 几分钟 着急 人数 物流 手中 送到\n",
      "\n"
     ]
    },
    {
     "data": {
      "image/png": "[encoded data removed]",
      "text/plain": [
       "<Figure size 432x288 with 1 Axes>"
      ]
     },
     "metadata": {},
     "output_type": "display_data"
    },
    {
     "name": "stdout",
     "output_type": "stream",
     "text": [
      "cluster #1: 送到 加急 稍等一下 通知 跟踪 物流 手中 催下 放心 更新 到达 不到 一定 到货 昨天 下午 知道 目前 关注 安排 上午 确定\n",
      "\n"
     ]
    },
    {
     "data": {
      "image/png": "[encoded data removed]",
      "text/plain": [
       "<Figure size 432x288 with 1 Axes>"
      ]
     },
     "metadata": {},
     "output_type": "display_data"
    },
    {
     "name": "stdout",
     "output_type": "stream",
     "text": [
      "cluster #2: 换货 实体店 质量 更换 只能 审核 衣服 型号 维修 之家 退换 备注 上门 价格 建议 安排 建议您 改成 修改 之内 无法 购买\n",
      "\n"
     ]
    },
    {
     "data": {
      "image/png": "[encoded data removed]",
      "text/plain": [
       "<Figure size 432x288 with 1 Axes>"
      ]
     },
     "metadata": {},
     "output_type": "display_data"
    },
    {
     "name": "stdout",
     "output_type": "stream",
     "text": [
      "cluster #3: 维修 质保 联保 期为 服务 全国 产品 享受 三包 保修 返厂 超出 返回 检测 周期 一年 客户服务 承担 包装 质量 返修 左右\n",
      "\n"
     ]
    },
    {
     "data": {
      "image/png": "[encoded data removed]",
      "text/plain": [
       "<Figure size 432x288 with 1 Axes>"
      ]
     },
     "metadata": {},
     "output_type": "display_data"
    },
    {
     "name": "stdout",
     "output_type": "stream",
     "text": [
      "cluster #4: 工作日 微信 储蓄卡 零钱 信用卡 支付 白条 时效 余额 退回 差价 现金支付 返还 账户 红包 两个 30 注意 优惠券 额度 恢复 审核\n",
      "\n"
     ]
    },
    {
     "data": {
      "image/png": "[encoded data removed]",
      "text/plain": [
       "<Figure size 432x288 with 1 Axes>"
      ]
     },
     "metadata": {},
     "output_type": "display_data"
    },
    {
     "data": {
      "text/plain": [
       "True"
      ]
     },
     "execution_count": 85,
     "metadata": {},
     "output_type": "execute_result"
    }
   ],
   "source": [
    "cursor = cnx.cursor()\n",
    "sql = ('SELECT WORDS.WORD, CLUSTER_KEYWORDS.TFIDF '\n",
    "       'FROM CLUSTER_KEYWORDS INNER JOIN WORDS '\n",
    "       'WHERE CLUSTER_KEYWORDS.WORD_ID = WORDS.WORD_ID '\n",
    "       'AND WORDS.BOT_ID = %s AND CLUSTER_KEYWORDS.BOT_ID = WORDS.BOT_ID '\n",
    "       'AND CLUSTER_ID = %s '\n",
    "       'ORDER BY CLUSTER_KEYWORDS.TFIDF DESC')\n",
    "\n",
    "for cluster_id in range(5):\n",
    "    data = (bot_id, cluster_id)\n",
    "    cursor.execute(sql, data)\n",
    "\n",
    "    words = []\n",
    "    values = []\n",
    "    for word_id, value in cursor:\n",
    "        words.append(word_id)\n",
    "        values.append(float(value))\n",
    "\n",
    "    num = 22\n",
    "    print('cluster #%d:' % cluster_id, ' '.join(words[:num]), end='\\n\\n')\n",
    "    plt.bar(range(num), values[:num])\n",
    "    plt.show()\n",
    "cursor.close()"
   ]
  },
  {
   "cell_type": "markdown",
   "metadata": {},
   "source": [
    "# [前端] 查看指定簇\n",
    "* 联合查询CLUSTER_KEYWORDS和WORDS\n",
    "* 联合查询CONVS和UTTERANCES"
   ]
  },
  {
   "cell_type": "code",
   "execution_count": 93,
   "metadata": {
    "scrolled": false
   },
   "outputs": [
    {
     "name": "stdout",
     "output_type": "stream",
     "text": [
      "cluster #4: 工作日 微信 储蓄卡 零钱 信用卡 支付 白条 时效 余额 退回 差价 现金支付 返还 账户 红包 两个 30 注意 优惠券 额度 恢复 审核\n",
      "\n"
     ]
    },
    {
     "data": {
      "image/png": "[encoded data removed]",
      "text/plain": [
       "<Figure size 432x288 with 1 Axes>"
      ]
     },
     "metadata": {},
     "output_type": "display_data"
    },
    {
     "name": "stdout",
     "output_type": "stream",
     "text": [
      "\n",
      "1 请问您是咨询之前的问题还是有其他的问题需要处理呢?\n",
      "0 之前的\n",
      "1 请您稍等一下，正在为您核实处理中哦~\n",
      "0 可以了吗 怎么这么慢的京东\n",
      "1 订单编号:[ORDERID_10003532] 这个吗\n",
      "0 对\n",
      "1 您是要取消吗\n",
      "0 不要了\n",
      "1 邮件主题:京保养客户退款单+订单号\n",
      "0 现在总算有说法了 失望\n",
      "1 还请您消消气 我们还会改进的哈\n",
      "0 已经发送了\n",
      "1 会在[数字x]个工作日处理的哈 因为什么原因呢 我在给您发一遍邮箱 给您督促处理\n",
      "0 好的 不方便\n",
      "1 您提供一下\n",
      "0 [姓名x] [数字x]款\n",
      "1 好的 我给您在督促一下哈\n",
      "0 谢谢\n",
      "1 您客气了哈 处理时效[数字x]个工作日 您会收到短信提示的哈 请问还有其他还可以帮到您的吗?\n",
      "0 那应该能成功的是吧\n",
      "1 嗯\n",
      "0 谢谢\n",
      "\n",
      "1 跨区了吗\n",
      "0 南山换到民治 跨了 同一个城市\n",
      "1 建议您取消订单重新下单哈 也是需要到达站点后再转战的呢 妹子看您是刚下单的呢\n",
      "0 是 我看到今天不能到\n",
      "1 您可以取消后重新下单哦\n",
      "0 但我明天不上班\n",
      "1 妹子不敢保证具体时间的呢，如果修改地址的话更是需要一些时间的呢\n",
      "0 取消的退款什么时候到账呢\n",
      "1 您好，商品退回后会开始办理退款，退款后也会有提示，退款周期:储蓄卡[数字x]-[数字x]工作日，信用卡[数字x]-[数字x][数字x]工作日，POS机刷卡[数字x]-[数字x][数字x]工作日，邮局汇款退储蓄卡[数字x]-[数字x]工作日，支票退款[数字x]-[数字x]工作日，分期付款[数字x]-[数字x][数字x]工作日，微信银行卡，退款[数字x]-[数字x][数字x]个工作日，现金支付是退回京东账户余额，[数字x]-[数字x]工作日左右。\n",
      "0 谢谢??\n",
      "\n",
      "1 请问有什么可以帮您? 亲爱的客户，还麻烦您提供下订单号，妹子这边给您查询哦~\n",
      "0 [ORDERID_10005924]\n",
      "1 配送退货\n",
      "0 好的\n",
      "1 您好，商品退回后会开始办理退款，退款后也会有提示，退款周期:储蓄卡[数字x]-[数字x]工作日，信用卡[数字x]-[数字x][数字x]工作日，POS机刷卡[数字x]-[数字x][数字x]工作日，邮局汇款退储蓄卡[数字x]-[数字x]工作日，支票退款[数字x]-[数字x]工作日，分期付款[数字x]-[数字x][数字x]工作日，微信银行卡，退款[数字x]-[数字x][数字x]个工作日，现金支付是退回京东账户余额，[数字x]-[数字x]工作日左右。\n",
      "0 好的\n",
      "1 很高兴遇到您这么善解人意的客户，请问还有其他还可以帮到您的吗?#E-s[数字x]#E-s[数字x]\n",
      "0 没有了 谢谢\n",
      "\n",
      "1 您申请售后之后不要着急，正常情况下[数字x]H内审核之后会有售后同事联系您，包括但不限于电话和短信联系。 申请路径:[站点x]可通过“我的京东”-“客户服务”-“返修退换货”内申请(也可直接点击此链接:http://myjd.jd.com/repair/orderlist.action;【APP端】可通过“我的”-“客户服务”-“退换/售后“中申请~;[站点x]可通过个人中心-客户服务-退换/售后进行申请哦~京东自营的返修退换货当天[时间x]之前提交的返修单，在当天[数字x]点之前会有人员审核，[时间x]之后提交的返修单次日[时间x]之前会有人员审核\n",
      "0 我急得很，我给娃儿买的，要出去读书了，等不及了\n",
      "1 您申请售后吧\n",
      "0 我直接退货就可以了\n",
      "1 签收了吗 还没到您取消就行了 -操作取消哟(温馨提示:请您取消前注意商品是否有缺货、价格上涨等情况哦，还请您谨慎操作呢) 退款时效，储蓄卡是[数字x]-[数字x]个工作日，信用卡是[数字x]-[数字x]5个工作日哦，微信零钱支付的是两个工作日[站点x]关于退款时效问题，您可以看一下这里https://help.jd.com/user/issue/[数字x]30-[链接x]\n",
      "0 退货成功了\n",
      "1 好的 #E-s[数字x] 很高兴遇到您这么善解人意的客户，请问还有其他还可以帮到您的吗?#E-s[数字x]#E-s[数字x]\n",
      "0 你们的货都没有发是吧\n",
      "1 在路上 很高兴遇到您这么善解人意的客户，请问还有其他还可以帮到您的吗?#E-s[数字x]#E-s[数字x]\n",
      "0 你们一直叫等，你们会忽悠人了 在路上了吗，前天就在渝北[地址x]，那是怎么回事\n",
      "1 嗯\n",
      "0 在红树林的\n",
      "1 您已经取消了，等待一下退款吧 #E-s[数字x] 退款时效，储蓄卡是[数字x]-[数字x]个工作日，信用卡是[数字x]-[数字x]5个工作日哦，微信零钱支付的是两个工作日[站点x]关于退款时效问题，您可以看一下这里https://help.jd.com/user/issue/[数字x]30-[链接x]\n",
      "0 太搞笑了， 开年就遇到了这事\n",
      "1 #E-s[数字x]\n",
      "0 你们还没上班吗 怎么这么慢\n",
      "1 客户您好，目前正值工作日恢复期间，所有业务已经恢复正常，之前的积压延迟已经开始处理，请您不要着急。\n",
      "0 呵呵?? 我是无语了\n",
      "\n"
     ]
    },
    {
     "data": {
      "text/plain": [
       "True"
      ]
     },
     "execution_count": 93,
     "metadata": {},
     "output_type": "execute_result"
    }
   ],
   "source": [
    "cursor = cnx.cursor()\n",
    "\n",
    "cluster_id = 4\n",
    "\n",
    "sql = ('SELECT WORDS.WORD, CLUSTER_KEYWORDS.TFIDF '\n",
    "       'FROM CLUSTER_KEYWORDS INNER JOIN WORDS '\n",
    "       'WHERE CLUSTER_KEYWORDS.WORD_ID = WORDS.WORD_ID '\n",
    "       'AND WORDS.BOT_ID = %s AND CLUSTER_KEYWORDS.BOT_ID = WORDS.BOT_ID '\n",
    "       'AND CLUSTER_ID = %s '\n",
    "       'ORDER BY CLUSTER_KEYWORDS.TFIDF DESC')\n",
    "data = (bot_id, cluster_id)\n",
    "cursor.execute(sql, data)\n",
    "\n",
    "words = []\n",
    "values = []\n",
    "for word_id, value in cursor:\n",
    "    words.append(word_id)\n",
    "    values.append(float(value))\n",
    "\n",
    "num = 22\n",
    "print('cluster #%d:' % cluster_id, ' '.join(words[:num]), end='\\n\\n')\n",
    "plt.bar(range(num), values[:num])\n",
    "plt.show()\n",
    "\n",
    "\n",
    "sql = ('SELECT CONVS.CONV_ID, SPEAKER_ID, UTTERANCE '\n",
    "       'FROM CONVS INNER JOIN UTTERANCES '\n",
    "       'WHERE CONVS.BOT_ID = %s AND UTTERANCES.BOT_ID = CONVS.BOT_ID '\n",
    "       'AND CONVS.CONV_ID = UTTERANCES.CONV_ID '\n",
    "       'AND CLUSTER_ID = %s')\n",
    "data = (bot_id, cluster_id)\n",
    "cursor.execute(sql, data)\n",
    "\n",
    "last_conv_id = None\n",
    "conv = ''\n",
    "count = 0\n",
    "for conv_id, speaker_id, utterance in cursor:\n",
    "    if conv_id == last_conv_id:\n",
    "        conv += str(speaker_id) + ' ' + utterance + '\\n'\n",
    "    else:\n",
    "        print(conv)\n",
    "        last_conv_id = conv_id\n",
    "        conv = ''\n",
    "        count += 1\n",
    "        if count >= 5:\n",
    "            break\n",
    "\n",
    "cursor.fetchall()\n",
    "cursor.close()"
   ]
  }
 ],
 "metadata": {
  "kernelspec": {
   "display_name": "Python 3",
   "language": "python",
   "name": "python3"
  },
  "language_info": {
   "codemirror_mode": {
    "name": "ipython",
    "version": 3
   },
   "file_extension": ".py",
   "mimetype": "text/x-python",
   "name": "python",
   "nbconvert_exporter": "python",
   "pygments_lexer": "ipython3",
   "version": "3.6.5"
  }
 },
 "nbformat": 4,
 "nbformat_minor": 2
}
