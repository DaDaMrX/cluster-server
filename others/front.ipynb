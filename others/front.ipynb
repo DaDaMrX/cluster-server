{
 "cells": [
  {
   "cell_type": "code",
   "execution_count": 113,
   "metadata": {},
   "outputs": [
    {
     "name": "stdout",
     "output_type": "stream",
     "text": [
      "<pymysql.connections.Connection object at 0x11b3512e8>\n"
     ]
    }
   ],
   "source": [
    "import pymysql.cursors\n",
    "\n",
    "config = {\n",
    "    'host': '9.59.150.218',\n",
    "    'port': 3306, \n",
    "    'user': 'iboost',\n",
    "    'password': 'passw0rd',\n",
    "    'db': 'BOOSTDB'\n",
    "}\n",
    "\n",
    "# config = {\n",
    "#     'host': '127.0.0.1',\n",
    "#     'port': 3306, \n",
    "#     'user': 'root',\n",
    "#     'password': 'xuhengda',\n",
    "#     'db': 'BOOSTDB'\n",
    "# }\n",
    "\n",
    "cnx = pymysql.connect(**config)\n",
    "\n",
    "print(cnx)"
   ]
  },
  {
   "cell_type": "markdown",
   "metadata": {},
   "source": [
    "# [前端] 把csv文件存入数据库\n",
    "* 写UTTERANCES表"
   ]
  },
  {
   "cell_type": "code",
   "execution_count": 114,
   "metadata": {
    "scrolled": false
   },
   "outputs": [
    {
     "name": "stdout",
     "output_type": "stream",
     "text": [
      "0 5000 5000\n",
      "5000 10000 5000\n",
      "10000 15000 5000\n",
      "15000 20000 5000\n",
      "20000 25000 5000\n",
      "25000 30000 5000\n",
      "30000 35000 5000\n",
      "35000 40000 5000\n",
      "40000 45000 5000\n",
      "45000 50000 5000\n",
      "50000 55000 5000\n",
      "55000 60000 5000\n",
      "60000 65000 5000\n",
      "65000 70000 5000\n",
      "70000 75000 5000\n",
      "75000 80000 5000\n",
      "80000 85000 5000\n",
      "85000 90000 5000\n",
      "90000 95000 5000\n",
      "95000 100000 5000\n",
      "100000 105000 5000\n",
      "105000 110000 5000\n",
      "110000 115000 5000\n",
      "115000 120000 5000\n",
      "120000 125000 863\n"
     ]
    }
   ],
   "source": [
    "import csv\n",
    "\n",
    "bot_id = '0'\n",
    "# cnx = mysql.connector.connect(**config)\n",
    "cnx = pymysql.connect(**config)\n",
    "cursor = cnx.cursor()\n",
    "csv_file = 'chat.csv'\n",
    "with open(csv_file, encoding='utf-8') as f:\n",
    "    reader = csv.reader(f, delimiter=',')\n",
    "    file = list(reader)\n",
    "    \n",
    "l = 0\n",
    "for l in range(0, len(file), 5000):\n",
    "    a = file[l:l+5000]\n",
    "    print(l, l+5000, len(a))\n",
    "    sql = 'INSERT INTO CLUSTERRING_UTTERANCES (BOT_ID, CONV_ID, SPEAKER_ID, UTTERANCE) VALUES'\n",
    "    sql_values = ' (%s, %s, %s, %s),' * len(a)\n",
    "    sql += sql_values[:-1]\n",
    "    data = []\n",
    "    for conv_id, speaker_id, utterance in a:\n",
    "        data.extend([bot_id, int(conv_id), int(speaker_id), utterance])\n",
    "    cursor.execute(sql, data)\n",
    "    cnx.commit()\n",
    "    \n",
    "cursor.close()\n",
    "cnx.close()"
   ]
  },
  {
   "cell_type": "markdown",
   "metadata": {},
   "source": [
    "# [前端] 注册BOT_ID\n",
    "* 写BOTS表"
   ]
  },
  {
   "cell_type": "code",
   "execution_count": 115,
   "metadata": {},
   "outputs": [],
   "source": [
    "# cnx = mysql.connector.connect(**config)\n",
    "cnx = pymysql.connect(**config)\n",
    "bot_id = '0'\n",
    "cursor = cnx.cursor()\n",
    "sql = 'INSERT INTO CLUSTERRING_TASKS (BOT_ID) VALUES (%s)'\n",
    "data = (bot_id,)\n",
    "cursor.execute(sql, data)\n",
    "cnx.commit()\n",
    "cursor.close()\n",
    "cnx.close()"
   ]
  },
  {
   "cell_type": "markdown",
   "metadata": {},
   "source": [
    "# [前端] 发送请求"
   ]
  },
  {
   "cell_type": "code",
   "execution_count": 130,
   "metadata": {
    "scrolled": false
   },
   "outputs": [
    {
     "name": "stdout",
     "output_type": "stream",
     "text": [
      "{\"status\": \"successful\"}\n"
     ]
    }
   ],
   "source": [
    "import urllib.parse, urllib.request\n",
    "import json\n",
    "import time\n",
    "\n",
    "import matplotlib.pyplot as plt\n",
    "import numpy as np\n",
    "%matplotlib inline\n",
    "\n",
    "url = 'http://localhost:8080/cluster'\n",
    "\n",
    "data = {\n",
    "    'bot_id': '0',\n",
    "    'stop_words': [],\n",
    "    'max_df': 0.1,\n",
    "    'min_df': 20,\n",
    "    'n_clusters': 50,\n",
    "    'method': 'kmeans'\n",
    "}\n",
    "\n",
    "data = json.dumps(data).encode('utf8')\n",
    "headers = {'content-type': 'application/json'}\n",
    "req = urllib.request.Request(url, data=data, headers=headers)\n",
    "\n",
    "result = urllib.request.urlopen(req).read().decode()\n",
    "print(result)\n"
   ]
  },
  {
   "cell_type": "code",
   "execution_count": 131,
   "metadata": {},
   "outputs": [
    {
     "name": "stdout",
     "output_type": "stream",
     "text": [
      "True 1.78s\n"
     ]
    }
   ],
   "source": [
    "def query():\n",
    "    cnx = cnx = pymysql.connect(**config)\n",
    "    bot_id = '0'\n",
    "    cursor = cnx.cursor()\n",
    "    sql = 'SELECT IS_COMPLETED, PROGRESS FROM CLUSTERRING_TASKS WHERE BOT_ID = %s'\n",
    "    data = (bot_id,)\n",
    "    cursor.execute(sql, data)\n",
    "    c, p = cursor.fetchone()\n",
    "    is_completed = True if int(c) == 1 else False\n",
    "    cursor.close()\n",
    "    cnx.close()\n",
    "    return is_completed\n",
    "\n",
    "start = time.time()\n",
    "while True:\n",
    "    is_completed = query()\n",
    "    if not is_completed:\n",
    "        print(is_completed, '%.2fs' % (time.time() - start))\n",
    "        time.sleep(2)\n",
    "    else:\n",
    "        print(is_completed, '%.2fs' % (time.time() - start))\n",
    "        break"
   ]
  },
  {
   "cell_type": "markdown",
   "metadata": {},
   "source": [
    "# [前端] 读DF\n",
    "* 读WORDS表"
   ]
  },
  {
   "cell_type": "code",
   "execution_count": 132,
   "metadata": {},
   "outputs": [
    {
     "name": "stdout",
     "output_type": "stream",
     "text": [
      "total words: 1000\n",
      "文件频率df-词数\n"
     ]
    },
    {
     "data": {
      "image/png": "[encoded data removed]",
      "text/plain": [
       "<Figure size 432x288 with 1 Axes>"
      ]
     },
     "metadata": {},
     "output_type": "display_data"
    },
    {
     "name": "stdout",
     "output_type": "stream",
     "text": [
      "每个词的文件频率df\n"
     ]
    },
    {
     "data": {
      "image/png": "[encoded data removed]",
      "text/plain": [
       "<Figure size 432x288 with 1 Axes>"
      ]
     },
     "metadata": {},
     "output_type": "display_data"
    }
   ],
   "source": [
    "import matplotlib.pyplot as plt\n",
    "import numpy as np\n",
    "%matplotlib inline\n",
    "\n",
    "cnx = pymysql.connect(**config)\n",
    "cursor = cnx.cursor()\n",
    "sql = 'SELECT DF FROM CLUSTERRING_WORDS WHERE BOT_ID = %s ORDER BY DF ASC'\n",
    "data = (bot_id,)\n",
    "cursor.execute(sql, data)\n",
    "df = list(map(lambda t: float(t[0]), cursor))\n",
    "cursor.close()\n",
    "cnx.close()\n",
    "\n",
    "print('total words:', len(df))\n",
    "\n",
    "print('文件频率df-词数')\n",
    "plt.hist(df, 200)\n",
    "plt.show()\n",
    "\n",
    "print('每个词的文件频率df')\n",
    "df.sort()\n",
    "plt.bar(np.arange(len(df)), df)\n",
    "plt.show()"
   ]
  },
  {
   "cell_type": "markdown",
   "metadata": {},
   "source": [
    "# [前端] 查询CH指数\n",
    "* 读BOTS表"
   ]
  },
  {
   "cell_type": "code",
   "execution_count": 133,
   "metadata": {},
   "outputs": [
    {
     "name": "stdout",
     "output_type": "stream",
     "text": [
      "CH: 47.554\n"
     ]
    }
   ],
   "source": [
    "cnx = pymysql.connect(**config)\n",
    "cursor = cnx.cursor()\n",
    "sql = 'SELECT CH FROM CLUSTERRING_TASKS WHERE BOT_ID = %s'\n",
    "data = (bot_id,)\n",
    "cursor.execute(sql, data)\n",
    "ch = float(cursor.fetchone()[0]) \n",
    "cursor.close()\n",
    "cnx.close()\n",
    "\n",
    "print('CH: %.3f' % ch)"
   ]
  },
  {
   "cell_type": "markdown",
   "metadata": {},
   "source": [
    "# [前端] 查询每个簇中对话的数量\n",
    "* 读CLUSTERS表"
   ]
  },
  {
   "cell_type": "code",
   "execution_count": 134,
   "metadata": {},
   "outputs": [
    {
     "data": {
      "image/png": "[encoded data removed]",
      "text/plain": [
       "<Figure size 576x432 with 1 Axes>"
      ]
     },
     "metadata": {},
     "output_type": "display_data"
    }
   ],
   "source": [
    "cnx = pymysql.connect(**config)\n",
    "n_clusters = 50 # 参数\n",
    "\n",
    "cursor = cnx.cursor()\n",
    "sql = 'SELECT VOLUME FROM CLUSTERRING_CLUSTERS WHERE BOT_ID = %s'\n",
    "data = (bot_id,)\n",
    "cursor.execute(sql, data)\n",
    "volumes = [vol for (vol,) in cursor]\n",
    "cursor.close()\n",
    "cnx.close()\n",
    "\n",
    "plt.figure(figsize=(8, 6))\n",
    "plt.bar(range(n_clusters), volumes)\n",
    "plt.show()"
   ]
  },
  {
   "cell_type": "markdown",
   "metadata": {},
   "source": [
    "# [前端] 展示每个簇的关键词\n",
    "* 联合查询CLUSTER_KEYWORDS和WORDS"
   ]
  },
  {
   "cell_type": "code",
   "execution_count": 135,
   "metadata": {},
   "outputs": [
    {
     "name": "stdout",
     "output_type": "stream",
     "text": [
      "cluster #0: 师傅 提前 稍等一下 收货 签收 这面 通知 方便 协商 接到 家里 取件 畅通 保持 前会 下午 确认 知道 短信 送来 送到 催下\n",
      "\n"
     ]
    },
    {
     "data": {
      "image/png": "[encoded data removed]",
      "text/plain": [
       "<Figure size 432x288 with 1 Axes>"
      ]
     },
     "metadata": {},
     "output_type": "display_data"
    },
    {
     "name": "stdout",
     "output_type": "stream",
     "text": [
      "cluster #1: 抬头 税号 发票 修改 公司 电子 组织 机构 换开 下载 明细 开具 工作日 添加 内容 开票 查看 财务 更改 名称 改成 短信\n",
      "\n"
     ]
    },
    {
     "data": {
      "image/png": "[encoded data removed]",
      "text/plain": [
       "<Figure size 432x288 with 1 Axes>"
      ]
     },
     "metadata": {},
     "output_type": "display_data"
    },
    {
     "name": "stdout",
     "output_type": "stream",
     "text": [
      "cluster #2: 工作日 储蓄卡 微信 信用卡 零钱 支付 白条 时效 余额 退回 现金支付 差价 返还 账户 两个 红包 30 周期 银行 注意 审核 返回\n",
      "\n"
     ]
    },
    {
     "data": {
      "image/png": "[encoded data removed]",
      "text/plain": [
       "<Figure size 432x288 with 1 Axes>"
      ]
     },
     "metadata": {},
     "output_type": "display_data"
    },
    {
     "name": "stdout",
     "output_type": "stream",
     "text": [
      "cluster #3: 返还 回复 之后 原路 款项 拒收 查收 一直 删除 工作日 跟进 我会 多个 一对一 消息 财务 放心 退回来 拦截 还要 成功 乐意\n",
      "\n"
     ]
    },
    {
     "data": {
      "image/png": "[encoded data removed]",
      "text/plain": [
       "<Figure size 432x288 with 1 Axes>"
      ]
     },
     "metadata": {},
     "output_type": "display_data"
    },
    {
     "name": "stdout",
     "output_type": "stream",
     "text": [
      "cluster #4: 送到 无法 催促 包裹 返回 安排 确定 帮助 带来 不便 具体 仓库 见谅 之后 更好 保证 拒签 收货 一定 两个 知道 应该\n",
      "\n"
     ]
    },
    {
     "data": {
      "image/png": "[encoded data removed]",
      "text/plain": [
       "<Figure size 432x288 with 1 Axes>"
      ]
     },
     "metadata": {},
     "output_type": "display_data"
    }
   ],
   "source": [
    "cnx = pymysql.connect(**config)\n",
    "cursor = cnx.cursor()\n",
    "sql = ('SELECT CLUSTERRING_WORDS.WORD, CLUSTERRING_CLUSTERKEYWORDS.TFIDF '\n",
    "       'FROM CLUSTERRING_CLUSTERKEYWORDS INNER JOIN CLUSTERRING_WORDS '\n",
    "       'WHERE CLUSTERRING_CLUSTERKEYWORDS.WORD_ID = CLUSTERRING_WORDS.WORD_ID '\n",
    "       'AND CLUSTERRING_WORDS.BOT_ID = %s AND CLUSTERRING_CLUSTERKEYWORDS.BOT_ID = CLUSTERRING_WORDS.BOT_ID '\n",
    "       'AND CLUSTER_ID = %s '\n",
    "       'ORDER BY CLUSTERRING_CLUSTERKEYWORDS.TFIDF DESC')\n",
    "\n",
    "for cluster_id in range(5):\n",
    "    data = (bot_id, cluster_id)\n",
    "    cursor.execute(sql, data)\n",
    "\n",
    "    words = []\n",
    "    values = []\n",
    "    for word, value in cursor:\n",
    "        words.append(word)\n",
    "        values.append(float(value))\n",
    "\n",
    "    num = 22\n",
    "    print('cluster #%d:' % cluster_id, ' '.join(words[:num]), end='\\n\\n')\n",
    "    plt.bar(range(num), values[:num])\n",
    "    plt.show()\n",
    "cursor.close()\n",
    "cnx.close()"
   ]
  },
  {
   "cell_type": "markdown",
   "metadata": {},
   "source": [
    "# [前端] 查看指定簇\n",
    "* 联合查询CLUSTER_KEYWORDS和WORDS\n",
    "* 联合查询CONVS和UTTERANCES"
   ]
  },
  {
   "cell_type": "code",
   "execution_count": 138,
   "metadata": {
    "scrolled": false
   },
   "outputs": [
    {
     "name": "stdout",
     "output_type": "stream",
     "text": [
      "cluster #4: 送到 无法 催促 包裹 返回 安排 确定 帮助 带来 不便 具体 仓库 见谅 之后 更好 保证 拒签 收货 一定 两个 知道 应该\n",
      "\n"
     ]
    },
    {
     "data": {
      "image/png": "[encoded data removed]",
      "text/plain": [
       "<Figure size 432x288 with 1 Axes>"
      ]
     },
     "metadata": {},
     "output_type": "display_data"
    },
    {
     "name": "stdout",
     "output_type": "stream",
     "text": [
      "ok\n",
      "\n",
      "1 请问您是咨询之前的问题还是有其他的问题需要处理呢?\n",
      "0 我买的酒壶盖子坏了，后来售后送来[数字x]次都是坏的 怎么办，我已经再次申请换货了\n",
      "1 换新的还是有问题是吗 建议您考虑商品的退呢\n",
      "0 送来[数字x]次都是盖子坏的\n",
      "1 很抱歉给您带来不便\n",
      "0 只能看看明天送来的坏不坏了对么\n",
      "1 给您带来不便了亲 您关注下哈\n",
      "0 嗯嗯\n",
      "1 #E-s[数字x] 请问还有其他还可以帮到您的吗?\n",
      "0 没了，谢谢\n",
      "\n",
      "1 有什么问题我可以帮您处理或解决呢?\n",
      "0 我没有收到铝合金气门 就一个轮胎\n",
      "1 亲爱的客户，还麻烦您提供下订单号，妹子这边给您查询哦~\n",
      "0 [ORDERID_10002538]\n",
      "1 您收到几个包裹呢\n",
      "0 一个 就一个轮胎包裹\n",
      "1 我联系站点\n",
      "0 OK\n",
      "1 显示分两个包裹\n",
      "0 我就就看着维修工人把轮胎打开了\n",
      "1 我已经联系站点了\n",
      "0 OK\n",
      "1 请问还有其他还可以帮到您的吗?\n",
      "0 没了\n",
      "1 感谢您对京东的支持，祝您生活愉快，再见!\n",
      "0 啥时候给我答复\n",
      "1 站点会查询的 正常今天会处理的\n",
      "0 OK\n",
      "1 #E-s[数字x]#E-s[数字x]\n",
      "0 谢谢\n",
      "\n",
      "1 马上核实情况，请您稍等哈#E-s[数字x]\n",
      "0 我这边有点急\n",
      "1 石家庄[地址x]。\n",
      "0 对\n",
      "1 #E-s[数字x]#E-s[数字x]\n",
      "0 我想查询订单的配送信息\n",
      "1 #E-s[数字x]#E-s[数字x]配送中了哦\n",
      "0 我知道\n",
      "1 #E-s[数字x]您先等待哦，会尽快安排呢\n",
      "0 好的\n",
      "\n",
      "1 有什么问题我可以帮您处理或解决呢?\n",
      "0 下单时间:[日期x] 可否今天送到\n",
      "1 [日期x]\n",
      "0 ……这不是忘记改了吗 所以才找你客服的呢 能不能帮我改今天送到\n",
      "1 亲，及那天送不到的 我们是上午出库的\n",
      "0 今天送不到吗\n",
      "1 是的，亲 明天送达的\n",
      "0 好吧 没事了\n",
      "\n"
     ]
    }
   ],
   "source": [
    "cnx = pymysql.connect(**config)\n",
    "cursor = cnx.cursor()\n",
    "\n",
    "cluster_id = 4\n",
    "\n",
    "sql = ('SELECT CLUSTERRING_WORDS.WORD, CLUSTERRING_CLUSTERKEYWORDS.TFIDF '\n",
    "       'FROM CLUSTERRING_CLUSTERKEYWORDS INNER JOIN CLUSTERRING_WORDS '\n",
    "       'WHERE CLUSTERRING_CLUSTERKEYWORDS.WORD_ID = CLUSTERRING_WORDS.WORD_ID '\n",
    "       'AND CLUSTERRING_WORDS.BOT_ID = %s AND CLUSTERRING_CLUSTERKEYWORDS.BOT_ID = CLUSTERRING_WORDS.BOT_ID '\n",
    "       'AND CLUSTER_ID = %s '\n",
    "       'ORDER BY CLUSTERRING_CLUSTERKEYWORDS.TFIDF DESC')\n",
    "data = (bot_id, cluster_id)\n",
    "cursor.execute(sql, data)\n",
    "\n",
    "words = []\n",
    "values = []\n",
    "for word_id, value in cursor:\n",
    "    words.append(word_id)\n",
    "    values.append(float(value))\n",
    "\n",
    "num = 22\n",
    "print('cluster #%d:' % cluster_id, ' '.join(words[:num]), end='\\n\\n')\n",
    "plt.bar(range(num), values[:num])\n",
    "plt.show()\n",
    "\n",
    "print('ok')\n",
    "\n",
    "sql = ('SELECT CLUSTERRING_CONVS.CONV_ID, SPEAKER_ID, UTTERANCE '\n",
    "       'FROM CLUSTERRING_CONVS INNER JOIN CLUSTERRING_UTTERANCES '\n",
    "       'WHERE CLUSTERRING_CONVS.BOT_ID = %s AND CLUSTERRING_UTTERANCES.BOT_ID = CLUSTERRING_CONVS.BOT_ID '\n",
    "       'AND CLUSTERRING_CONVS.CONV_ID = CLUSTERRING_UTTERANCES.CONV_ID '\n",
    "       'AND CLUSTER_ID = %s')\n",
    "data = (bot_id, cluster_id)\n",
    "cursor.execute(sql, data)\n",
    "\n",
    "last_conv_id = None\n",
    "conv = ''\n",
    "count = 0\n",
    "for conv_id, speaker_id, utterance in cursor:\n",
    "    if conv_id == last_conv_id:\n",
    "        conv += str(speaker_id) + ' ' + utterance + '\\n'\n",
    "    else:\n",
    "        print(conv)\n",
    "        last_conv_id = conv_id\n",
    "        conv = ''\n",
    "        count += 1\n",
    "        if count >= 5:\n",
    "            break\n",
    "\n",
    "cursor.fetchall()\n",
    "cursor.close()\n",
    "cnx.close()"
   ]
  }
 ],
 "metadata": {
  "kernelspec": {
   "display_name": "Python 3",
   "language": "python",
   "name": "python3"
  },
  "language_info": {
   "codemirror_mode": {
    "name": "ipython",
    "version": 3
   },
   "file_extension": ".py",
   "mimetype": "text/x-python",
   "name": "python",
   "nbconvert_exporter": "python",
   "pygments_lexer": "ipython3",
   "version": "3.6.5"
  }
 },
 "nbformat": 4,
 "nbformat_minor": 2
}
